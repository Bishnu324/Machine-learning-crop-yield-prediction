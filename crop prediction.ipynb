{
 "cells": [
  {
   "cell_type": "code",
   "execution_count": 1,
   "id": "3f21dc73-0a52-4158-8c66-9e0d12817cb1",
   "metadata": {},
   "outputs": [],
   "source": [
    "import pandas as pd\n",
    "import matplotlib.pyplot as plt \n",
    "import seaborn as sns\n",
    "import numpy as np"
   ]
  },
  {
   "cell_type": "code",
   "execution_count": 2,
   "id": "ca09c6cf-dc32-470d-8946-d2f25b5360d0",
   "metadata": {},
   "outputs": [],
   "source": [
    "df_yield=pd.read_csv(r\"C:\\\\Users\\\\A S P I R E 7\\\\OneDrive - mishu\\\\Desktop\\\\python course\\\\CROP YIELD PREDICTION\\\\yield.csv\")"
   ]
  },
  {
   "cell_type": "markdown",
   "id": "003cef6a-2781-4fd7-a384-6d0030b8e110",
   "metadata": {},
   "source": [
    "# YIELD DATA"
   ]
  },
  {
   "cell_type": "code",
   "execution_count": 3,
   "id": "65035966-ae4d-4bb9-ac3b-2212e4e7492e",
   "metadata": {},
   "outputs": [
    {
     "data": {
      "text/html": [
       "<div>\n",
       "<style scoped>\n",
       "    .dataframe tbody tr th:only-of-type {\n",
       "        vertical-align: middle;\n",
       "    }\n",
       "\n",
       "    .dataframe tbody tr th {\n",
       "        vertical-align: top;\n",
       "    }\n",
       "\n",
       "    .dataframe thead th {\n",
       "        text-align: right;\n",
       "    }\n",
       "</style>\n",
       "<table border=\"1\" class=\"dataframe\">\n",
       "  <thead>\n",
       "    <tr style=\"text-align: right;\">\n",
       "      <th></th>\n",
       "      <th>Domain Code</th>\n",
       "      <th>Domain</th>\n",
       "      <th>Area Code</th>\n",
       "      <th>Area</th>\n",
       "      <th>Element Code</th>\n",
       "      <th>Element</th>\n",
       "      <th>Item Code</th>\n",
       "      <th>Item</th>\n",
       "      <th>Year Code</th>\n",
       "      <th>Year</th>\n",
       "      <th>Unit</th>\n",
       "      <th>Value</th>\n",
       "    </tr>\n",
       "  </thead>\n",
       "  <tbody>\n",
       "    <tr>\n",
       "      <th>0</th>\n",
       "      <td>QC</td>\n",
       "      <td>Crops</td>\n",
       "      <td>2</td>\n",
       "      <td>Afghanistan</td>\n",
       "      <td>5419</td>\n",
       "      <td>Yield</td>\n",
       "      <td>56</td>\n",
       "      <td>Maize</td>\n",
       "      <td>1961</td>\n",
       "      <td>1961</td>\n",
       "      <td>hg/ha</td>\n",
       "      <td>14000</td>\n",
       "    </tr>\n",
       "    <tr>\n",
       "      <th>1</th>\n",
       "      <td>QC</td>\n",
       "      <td>Crops</td>\n",
       "      <td>2</td>\n",
       "      <td>Afghanistan</td>\n",
       "      <td>5419</td>\n",
       "      <td>Yield</td>\n",
       "      <td>56</td>\n",
       "      <td>Maize</td>\n",
       "      <td>1962</td>\n",
       "      <td>1962</td>\n",
       "      <td>hg/ha</td>\n",
       "      <td>14000</td>\n",
       "    </tr>\n",
       "    <tr>\n",
       "      <th>2</th>\n",
       "      <td>QC</td>\n",
       "      <td>Crops</td>\n",
       "      <td>2</td>\n",
       "      <td>Afghanistan</td>\n",
       "      <td>5419</td>\n",
       "      <td>Yield</td>\n",
       "      <td>56</td>\n",
       "      <td>Maize</td>\n",
       "      <td>1963</td>\n",
       "      <td>1963</td>\n",
       "      <td>hg/ha</td>\n",
       "      <td>14260</td>\n",
       "    </tr>\n",
       "    <tr>\n",
       "      <th>3</th>\n",
       "      <td>QC</td>\n",
       "      <td>Crops</td>\n",
       "      <td>2</td>\n",
       "      <td>Afghanistan</td>\n",
       "      <td>5419</td>\n",
       "      <td>Yield</td>\n",
       "      <td>56</td>\n",
       "      <td>Maize</td>\n",
       "      <td>1964</td>\n",
       "      <td>1964</td>\n",
       "      <td>hg/ha</td>\n",
       "      <td>14257</td>\n",
       "    </tr>\n",
       "    <tr>\n",
       "      <th>4</th>\n",
       "      <td>QC</td>\n",
       "      <td>Crops</td>\n",
       "      <td>2</td>\n",
       "      <td>Afghanistan</td>\n",
       "      <td>5419</td>\n",
       "      <td>Yield</td>\n",
       "      <td>56</td>\n",
       "      <td>Maize</td>\n",
       "      <td>1965</td>\n",
       "      <td>1965</td>\n",
       "      <td>hg/ha</td>\n",
       "      <td>14400</td>\n",
       "    </tr>\n",
       "  </tbody>\n",
       "</table>\n",
       "</div>"
      ],
      "text/plain": [
       "  Domain Code Domain  Area Code         Area  Element Code Element  Item Code  \\\n",
       "0          QC  Crops          2  Afghanistan          5419   Yield         56   \n",
       "1          QC  Crops          2  Afghanistan          5419   Yield         56   \n",
       "2          QC  Crops          2  Afghanistan          5419   Yield         56   \n",
       "3          QC  Crops          2  Afghanistan          5419   Yield         56   \n",
       "4          QC  Crops          2  Afghanistan          5419   Yield         56   \n",
       "\n",
       "    Item  Year Code  Year   Unit  Value  \n",
       "0  Maize       1961  1961  hg/ha  14000  \n",
       "1  Maize       1962  1962  hg/ha  14000  \n",
       "2  Maize       1963  1963  hg/ha  14260  \n",
       "3  Maize       1964  1964  hg/ha  14257  \n",
       "4  Maize       1965  1965  hg/ha  14400  "
      ]
     },
     "execution_count": 3,
     "metadata": {},
     "output_type": "execute_result"
    }
   ],
   "source": [
    "df_yield.head(5)"
   ]
  },
  {
   "cell_type": "code",
   "execution_count": 4,
   "id": "92a050ca-dc58-4001-a343-fc3307fb6aec",
   "metadata": {},
   "outputs": [
    {
     "name": "stdout",
     "output_type": "stream",
     "text": [
      "<class 'pandas.core.frame.DataFrame'>\n",
      "RangeIndex: 56717 entries, 0 to 56716\n",
      "Data columns (total 12 columns):\n",
      " #   Column        Non-Null Count  Dtype \n",
      "---  ------        --------------  ----- \n",
      " 0   Domain Code   56717 non-null  object\n",
      " 1   Domain        56717 non-null  object\n",
      " 2   Area Code     56717 non-null  int64 \n",
      " 3   Area          56717 non-null  object\n",
      " 4   Element Code  56717 non-null  int64 \n",
      " 5   Element       56717 non-null  object\n",
      " 6   Item Code     56717 non-null  int64 \n",
      " 7   Item          56717 non-null  object\n",
      " 8   Year Code     56717 non-null  int64 \n",
      " 9   Year          56717 non-null  int64 \n",
      " 10  Unit          56717 non-null  object\n",
      " 11  Value         56717 non-null  int64 \n",
      "dtypes: int64(6), object(6)\n",
      "memory usage: 5.2+ MB\n"
     ]
    }
   ],
   "source": [
    "df_yield.info()"
   ]
  },
  {
   "cell_type": "code",
   "execution_count": 5,
   "id": "db7400e0-0b33-4c3c-a1b4-55b98a506714",
   "metadata": {},
   "outputs": [
    {
     "data": {
      "text/plain": [
       "(56717, 12)"
      ]
     },
     "execution_count": 5,
     "metadata": {},
     "output_type": "execute_result"
    }
   ],
   "source": [
    "df_yield.shape"
   ]
  },
  {
   "cell_type": "code",
   "execution_count": 6,
   "id": "5890b46b-3205-40fe-9ec2-9fd0d38f3d6c",
   "metadata": {},
   "outputs": [
    {
     "data": {
      "text/plain": [
       "0        False\n",
       "1        False\n",
       "2        False\n",
       "3        False\n",
       "4        False\n",
       "         ...  \n",
       "56712    False\n",
       "56713    False\n",
       "56714    False\n",
       "56715    False\n",
       "56716    False\n",
       "Length: 56717, dtype: bool"
      ]
     },
     "execution_count": 6,
     "metadata": {},
     "output_type": "execute_result"
    }
   ],
   "source": [
    "df_yield.duplicated()"
   ]
  },
  {
   "cell_type": "code",
   "execution_count": 7,
   "id": "59f78aa2-016c-4b08-bbc7-6e2745776025",
   "metadata": {},
   "outputs": [
    {
     "data": {
      "text/plain": [
       "Index(['Domain Code', 'Domain', 'Area Code', 'Area', 'Element Code', 'Element',\n",
       "       'Item Code', 'Item', 'Year Code', 'Year', 'Unit', 'Value'],\n",
       "      dtype='object')"
      ]
     },
     "execution_count": 7,
     "metadata": {},
     "output_type": "execute_result"
    }
   ],
   "source": [
    "df_yield.columns"
   ]
  },
  {
   "cell_type": "markdown",
   "id": "0dafea85-806d-4809-88ff-efb481ddec96",
   "metadata": {},
   "source": [
    "# ONLY SELECT REQUIRED COLUMNS"
   ]
  },
  {
   "cell_type": "code",
   "execution_count": 8,
   "id": "a70e7297-be61-4aec-82dd-afd0e139307b",
   "metadata": {},
   "outputs": [],
   "source": [
    "df_yield_new=df_yield[['Area','Year','Item','Value']]"
   ]
  },
  {
   "cell_type": "code",
   "execution_count": 9,
   "id": "0c8100dd-8e37-41a5-972a-03cd160978ab",
   "metadata": {},
   "outputs": [
    {
     "name": "stdout",
     "output_type": "stream",
     "text": [
      "<class 'pandas.core.frame.DataFrame'>\n",
      "RangeIndex: 56717 entries, 0 to 56716\n",
      "Data columns (total 4 columns):\n",
      " #   Column  Non-Null Count  Dtype \n",
      "---  ------  --------------  ----- \n",
      " 0   Area    56717 non-null  object\n",
      " 1   Year    56717 non-null  int64 \n",
      " 2   Item    56717 non-null  object\n",
      " 3   Value   56717 non-null  int64 \n",
      "dtypes: int64(2), object(2)\n",
      "memory usage: 1.7+ MB\n"
     ]
    }
   ],
   "source": [
    "df_yield_new.info()"
   ]
  },
  {
   "cell_type": "code",
   "execution_count": 10,
   "id": "2159add6-0888-4ccc-876d-ce5d929fa185",
   "metadata": {},
   "outputs": [
    {
     "name": "stdout",
     "output_type": "stream",
     "text": [
      "              Area  Year   Item  Value\n",
      "0      Afghanistan  1961  Maize  14000\n",
      "1      Afghanistan  1962  Maize  14000\n",
      "2      Afghanistan  1963  Maize  14260\n",
      "3      Afghanistan  1964  Maize  14257\n",
      "4      Afghanistan  1965  Maize  14400\n",
      "...            ...   ...    ...    ...\n",
      "56712     Zimbabwe  2012  Wheat  24420\n",
      "56713     Zimbabwe  2013  Wheat  22888\n",
      "56714     Zimbabwe  2014  Wheat  21357\n",
      "56715     Zimbabwe  2015  Wheat  19826\n",
      "56716     Zimbabwe  2016  Wheat  18294\n",
      "\n",
      "[56717 rows x 4 columns]\n"
     ]
    }
   ],
   "source": [
    "print(df_yield_new)"
   ]
  },
  {
   "cell_type": "code",
   "execution_count": 11,
   "id": "484db293-d762-4e74-b76a-33ca1204d1b1",
   "metadata": {},
   "outputs": [
    {
     "data": {
      "text/plain": [
       "Index(['Area', 'Year', 'Item', 'Value'], dtype='object')"
      ]
     },
     "execution_count": 11,
     "metadata": {},
     "output_type": "execute_result"
    }
   ],
   "source": [
    "df_yield_new.columns"
   ]
  },
  {
   "cell_type": "markdown",
   "id": "b3fc2e8b-1add-4075-abd3-08f4c774baa5",
   "metadata": {},
   "source": [
    "# RANIFALL DATA"
   ]
  },
  {
   "cell_type": "code",
   "execution_count": 12,
   "id": "45531639-2995-4b5f-9cd3-9e3d7668ced0",
   "metadata": {},
   "outputs": [
    {
     "data": {
      "text/html": [
       "<div>\n",
       "<style scoped>\n",
       "    .dataframe tbody tr th:only-of-type {\n",
       "        vertical-align: middle;\n",
       "    }\n",
       "\n",
       "    .dataframe tbody tr th {\n",
       "        vertical-align: top;\n",
       "    }\n",
       "\n",
       "    .dataframe thead th {\n",
       "        text-align: right;\n",
       "    }\n",
       "</style>\n",
       "<table border=\"1\" class=\"dataframe\">\n",
       "  <thead>\n",
       "    <tr style=\"text-align: right;\">\n",
       "      <th></th>\n",
       "      <th>Area</th>\n",
       "      <th>Year</th>\n",
       "      <th>average_rain_fall_mm_per_year</th>\n",
       "      <th>Unnamed: 3</th>\n",
       "      <th>Unnamed: 4</th>\n",
       "    </tr>\n",
       "  </thead>\n",
       "  <tbody>\n",
       "    <tr>\n",
       "      <th>0</th>\n",
       "      <td>Afghanistan</td>\n",
       "      <td>1985</td>\n",
       "      <td>327</td>\n",
       "      <td>NaN</td>\n",
       "      <td>NaN</td>\n",
       "    </tr>\n",
       "    <tr>\n",
       "      <th>1</th>\n",
       "      <td>Afghanistan</td>\n",
       "      <td>1986</td>\n",
       "      <td>327</td>\n",
       "      <td>NaN</td>\n",
       "      <td>NaN</td>\n",
       "    </tr>\n",
       "    <tr>\n",
       "      <th>2</th>\n",
       "      <td>Afghanistan</td>\n",
       "      <td>1987</td>\n",
       "      <td>327</td>\n",
       "      <td>NaN</td>\n",
       "      <td>NaN</td>\n",
       "    </tr>\n",
       "    <tr>\n",
       "      <th>3</th>\n",
       "      <td>Afghanistan</td>\n",
       "      <td>1989</td>\n",
       "      <td>327</td>\n",
       "      <td>NaN</td>\n",
       "      <td>NaN</td>\n",
       "    </tr>\n",
       "    <tr>\n",
       "      <th>4</th>\n",
       "      <td>Afghanistan</td>\n",
       "      <td>1990</td>\n",
       "      <td>327</td>\n",
       "      <td>NaN</td>\n",
       "      <td>NaN</td>\n",
       "    </tr>\n",
       "    <tr>\n",
       "      <th>...</th>\n",
       "      <td>...</td>\n",
       "      <td>...</td>\n",
       "      <td>...</td>\n",
       "      <td>...</td>\n",
       "      <td>...</td>\n",
       "    </tr>\n",
       "    <tr>\n",
       "      <th>6722</th>\n",
       "      <td>Zimbabwe</td>\n",
       "      <td>2013</td>\n",
       "      <td>657</td>\n",
       "      <td>NaN</td>\n",
       "      <td>NaN</td>\n",
       "    </tr>\n",
       "    <tr>\n",
       "      <th>6723</th>\n",
       "      <td>Zimbabwe</td>\n",
       "      <td>2014</td>\n",
       "      <td>657</td>\n",
       "      <td>NaN</td>\n",
       "      <td>NaN</td>\n",
       "    </tr>\n",
       "    <tr>\n",
       "      <th>6724</th>\n",
       "      <td>Zimbabwe</td>\n",
       "      <td>2015</td>\n",
       "      <td>657</td>\n",
       "      <td>NaN</td>\n",
       "      <td>NaN</td>\n",
       "    </tr>\n",
       "    <tr>\n",
       "      <th>6725</th>\n",
       "      <td>Zimbabwe</td>\n",
       "      <td>2016</td>\n",
       "      <td>657</td>\n",
       "      <td>NaN</td>\n",
       "      <td>NaN</td>\n",
       "    </tr>\n",
       "    <tr>\n",
       "      <th>6726</th>\n",
       "      <td>Zimbabwe</td>\n",
       "      <td>2017</td>\n",
       "      <td>657</td>\n",
       "      <td>NaN</td>\n",
       "      <td>NaN</td>\n",
       "    </tr>\n",
       "  </tbody>\n",
       "</table>\n",
       "<p>6727 rows × 5 columns</p>\n",
       "</div>"
      ],
      "text/plain": [
       "             Area  Year average_rain_fall_mm_per_year  Unnamed: 3  Unnamed: 4\n",
       "0     Afghanistan  1985                           327         NaN         NaN\n",
       "1     Afghanistan  1986                           327         NaN         NaN\n",
       "2     Afghanistan  1987                           327         NaN         NaN\n",
       "3     Afghanistan  1989                           327         NaN         NaN\n",
       "4     Afghanistan  1990                           327         NaN         NaN\n",
       "...           ...   ...                           ...         ...         ...\n",
       "6722     Zimbabwe  2013                           657         NaN         NaN\n",
       "6723     Zimbabwe  2014                           657         NaN         NaN\n",
       "6724     Zimbabwe  2015                           657         NaN         NaN\n",
       "6725     Zimbabwe  2016                           657         NaN         NaN\n",
       "6726     Zimbabwe  2017                           657         NaN         NaN\n",
       "\n",
       "[6727 rows x 5 columns]"
      ]
     },
     "execution_count": 12,
     "metadata": {},
     "output_type": "execute_result"
    }
   ],
   "source": [
    "pd.read_csv(r\"C:\\\\Users\\\\A S P I R E 7\\\\OneDrive - mishu\\\\Desktop\\\\python course\\\\CROP YIELD PREDICTION\\\\rainfall.csv\")"
   ]
  },
  {
   "cell_type": "code",
   "execution_count": 13,
   "id": "e7482e93-f1e7-4882-a265-3b43536e2386",
   "metadata": {},
   "outputs": [],
   "source": [
    "df_rainfall=pd.read_csv(r\"C:\\\\Users\\\\A S P I R E 7\\\\OneDrive - mishu\\\\Desktop\\\\python course\\\\CROP YIELD PREDICTION\\\\rainfall.csv\")"
   ]
  },
  {
   "cell_type": "code",
   "execution_count": 14,
   "id": "882a8f67-2080-4877-a310-84f4d9a67d57",
   "metadata": {},
   "outputs": [
    {
     "name": "stdout",
     "output_type": "stream",
     "text": [
      "<class 'pandas.core.frame.DataFrame'>\n",
      "RangeIndex: 6727 entries, 0 to 6726\n",
      "Data columns (total 5 columns):\n",
      " #   Column                         Non-Null Count  Dtype  \n",
      "---  ------                         --------------  -----  \n",
      " 0    Area                          6727 non-null   object \n",
      " 1   Year                           6727 non-null   int64  \n",
      " 2   average_rain_fall_mm_per_year  5953 non-null   object \n",
      " 3   Unnamed: 3                     0 non-null      float64\n",
      " 4   Unnamed: 4                     0 non-null      float64\n",
      "dtypes: float64(2), int64(1), object(2)\n",
      "memory usage: 262.9+ KB\n"
     ]
    }
   ],
   "source": [
    "df_rainfall.info()"
   ]
  },
  {
   "cell_type": "code",
   "execution_count": 15,
   "id": "cd799d8f-0981-4532-89f2-f23a963ad702",
   "metadata": {},
   "outputs": [
    {
     "data": {
      "text/plain": [
       "(6727, 5)"
      ]
     },
     "execution_count": 15,
     "metadata": {},
     "output_type": "execute_result"
    }
   ],
   "source": [
    "df_rainfall.shape"
   ]
  },
  {
   "cell_type": "code",
   "execution_count": 16,
   "id": "320c394b-fd8a-4ed6-ba80-41369c78d78b",
   "metadata": {},
   "outputs": [
    {
     "data": {
      "text/plain": [
       "Index([' Area', 'Year', 'average_rain_fall_mm_per_year', 'Unnamed: 3',\n",
       "       'Unnamed: 4'],\n",
       "      dtype='object')"
      ]
     },
     "execution_count": 16,
     "metadata": {},
     "output_type": "execute_result"
    }
   ],
   "source": [
    "df_rainfall.columns"
   ]
  },
  {
   "cell_type": "code",
   "execution_count": 17,
   "id": "9d19994c-600e-43d5-bba9-ec128dbb9be8",
   "metadata": {},
   "outputs": [
    {
     "data": {
      "text/html": [
       "<div>\n",
       "<style scoped>\n",
       "    .dataframe tbody tr th:only-of-type {\n",
       "        vertical-align: middle;\n",
       "    }\n",
       "\n",
       "    .dataframe tbody tr th {\n",
       "        vertical-align: top;\n",
       "    }\n",
       "\n",
       "    .dataframe thead th {\n",
       "        text-align: right;\n",
       "    }\n",
       "</style>\n",
       "<table border=\"1\" class=\"dataframe\">\n",
       "  <thead>\n",
       "    <tr style=\"text-align: right;\">\n",
       "      <th></th>\n",
       "      <th>Area</th>\n",
       "      <th>Year</th>\n",
       "      <th>average_rain_fall_mm_per_year</th>\n",
       "      <th>Unnamed: 3</th>\n",
       "      <th>Unnamed: 4</th>\n",
       "    </tr>\n",
       "  </thead>\n",
       "  <tbody>\n",
       "    <tr>\n",
       "      <th>0</th>\n",
       "      <td>Afghanistan</td>\n",
       "      <td>1985</td>\n",
       "      <td>327</td>\n",
       "      <td>NaN</td>\n",
       "      <td>NaN</td>\n",
       "    </tr>\n",
       "    <tr>\n",
       "      <th>1</th>\n",
       "      <td>Afghanistan</td>\n",
       "      <td>1986</td>\n",
       "      <td>327</td>\n",
       "      <td>NaN</td>\n",
       "      <td>NaN</td>\n",
       "    </tr>\n",
       "    <tr>\n",
       "      <th>2</th>\n",
       "      <td>Afghanistan</td>\n",
       "      <td>1987</td>\n",
       "      <td>327</td>\n",
       "      <td>NaN</td>\n",
       "      <td>NaN</td>\n",
       "    </tr>\n",
       "    <tr>\n",
       "      <th>3</th>\n",
       "      <td>Afghanistan</td>\n",
       "      <td>1989</td>\n",
       "      <td>327</td>\n",
       "      <td>NaN</td>\n",
       "      <td>NaN</td>\n",
       "    </tr>\n",
       "    <tr>\n",
       "      <th>4</th>\n",
       "      <td>Afghanistan</td>\n",
       "      <td>1990</td>\n",
       "      <td>327</td>\n",
       "      <td>NaN</td>\n",
       "      <td>NaN</td>\n",
       "    </tr>\n",
       "    <tr>\n",
       "      <th>...</th>\n",
       "      <td>...</td>\n",
       "      <td>...</td>\n",
       "      <td>...</td>\n",
       "      <td>...</td>\n",
       "      <td>...</td>\n",
       "    </tr>\n",
       "    <tr>\n",
       "      <th>6722</th>\n",
       "      <td>Zimbabwe</td>\n",
       "      <td>2013</td>\n",
       "      <td>657</td>\n",
       "      <td>NaN</td>\n",
       "      <td>NaN</td>\n",
       "    </tr>\n",
       "    <tr>\n",
       "      <th>6723</th>\n",
       "      <td>Zimbabwe</td>\n",
       "      <td>2014</td>\n",
       "      <td>657</td>\n",
       "      <td>NaN</td>\n",
       "      <td>NaN</td>\n",
       "    </tr>\n",
       "    <tr>\n",
       "      <th>6724</th>\n",
       "      <td>Zimbabwe</td>\n",
       "      <td>2015</td>\n",
       "      <td>657</td>\n",
       "      <td>NaN</td>\n",
       "      <td>NaN</td>\n",
       "    </tr>\n",
       "    <tr>\n",
       "      <th>6725</th>\n",
       "      <td>Zimbabwe</td>\n",
       "      <td>2016</td>\n",
       "      <td>657</td>\n",
       "      <td>NaN</td>\n",
       "      <td>NaN</td>\n",
       "    </tr>\n",
       "    <tr>\n",
       "      <th>6726</th>\n",
       "      <td>Zimbabwe</td>\n",
       "      <td>2017</td>\n",
       "      <td>657</td>\n",
       "      <td>NaN</td>\n",
       "      <td>NaN</td>\n",
       "    </tr>\n",
       "  </tbody>\n",
       "</table>\n",
       "<p>6727 rows × 5 columns</p>\n",
       "</div>"
      ],
      "text/plain": [
       "             Area  Year average_rain_fall_mm_per_year  Unnamed: 3  Unnamed: 4\n",
       "0     Afghanistan  1985                           327         NaN         NaN\n",
       "1     Afghanistan  1986                           327         NaN         NaN\n",
       "2     Afghanistan  1987                           327         NaN         NaN\n",
       "3     Afghanistan  1989                           327         NaN         NaN\n",
       "4     Afghanistan  1990                           327         NaN         NaN\n",
       "...           ...   ...                           ...         ...         ...\n",
       "6722     Zimbabwe  2013                           657         NaN         NaN\n",
       "6723     Zimbabwe  2014                           657         NaN         NaN\n",
       "6724     Zimbabwe  2015                           657         NaN         NaN\n",
       "6725     Zimbabwe  2016                           657         NaN         NaN\n",
       "6726     Zimbabwe  2017                           657         NaN         NaN\n",
       "\n",
       "[6727 rows x 5 columns]"
      ]
     },
     "execution_count": 17,
     "metadata": {},
     "output_type": "execute_result"
    }
   ],
   "source": [
    "df_rainfall"
   ]
  },
  {
   "cell_type": "markdown",
   "id": "ddeba607-11cb-45df-801f-fd39478e2d1d",
   "metadata": {},
   "source": [
    "# DROP UNNECESSARY COLUMNS FROM RAINFALL TABLE"
   ]
  },
  {
   "cell_type": "code",
   "execution_count": 18,
   "id": "198d81b8-9017-4270-afce-6c8d429c85d3",
   "metadata": {},
   "outputs": [],
   "source": [
    "df_rainfall.drop(columns=['Unnamed: 3','Unnamed: 4'],inplace=True)"
   ]
  },
  {
   "cell_type": "code",
   "execution_count": 19,
   "id": "98509176-74a0-4c7e-a51a-77dc6c216512",
   "metadata": {},
   "outputs": [
    {
     "data": {
      "text/plain": [
       "0       False\n",
       "1       False\n",
       "2       False\n",
       "3       False\n",
       "4       False\n",
       "        ...  \n",
       "6722    False\n",
       "6723    False\n",
       "6724    False\n",
       "6725    False\n",
       "6726    False\n",
       "Length: 6727, dtype: bool"
      ]
     },
     "execution_count": 19,
     "metadata": {},
     "output_type": "execute_result"
    }
   ],
   "source": [
    "df_rainfall.duplicated()"
   ]
  },
  {
   "cell_type": "code",
   "execution_count": 20,
   "id": "0c95a3bb-e97d-461b-8d03-14b5e307803a",
   "metadata": {},
   "outputs": [
    {
     "data": {
      "text/plain": [
       "Index([' Area', 'Year', 'average_rain_fall_mm_per_year'], dtype='object')"
      ]
     },
     "execution_count": 20,
     "metadata": {},
     "output_type": "execute_result"
    }
   ],
   "source": [
    "df_rainfall.columns"
   ]
  },
  {
   "cell_type": "markdown",
   "id": "c7044bd7-c0ff-46e0-bcb1-8bec57b7a311",
   "metadata": {},
   "source": [
    "# TEMP DATA"
   ]
  },
  {
   "cell_type": "code",
   "execution_count": 21,
   "id": "c7b9af29-391d-40cc-b09b-679fe5723c03",
   "metadata": {},
   "outputs": [],
   "source": [
    "df_temp=pd.read_csv(\"C:\\\\Users\\\\A S P I R E 7\\\\OneDrive - mishu\\\\Desktop\\\\python course\\\\CROP YIELD PREDICTION\\\\temp.csv\")"
   ]
  },
  {
   "cell_type": "code",
   "execution_count": 22,
   "id": "b81f3cab-9396-4c17-a469-aec1efd137d3",
   "metadata": {},
   "outputs": [
    {
     "name": "stdout",
     "output_type": "stream",
     "text": [
      "<class 'pandas.core.frame.DataFrame'>\n",
      "RangeIndex: 71311 entries, 0 to 71310\n",
      "Data columns (total 3 columns):\n",
      " #   Column    Non-Null Count  Dtype  \n",
      "---  ------    --------------  -----  \n",
      " 0   year      71311 non-null  int64  \n",
      " 1   country   71311 non-null  object \n",
      " 2   avg_temp  68764 non-null  float64\n",
      "dtypes: float64(1), int64(1), object(1)\n",
      "memory usage: 1.6+ MB\n"
     ]
    }
   ],
   "source": [
    "df_temp.info()"
   ]
  },
  {
   "cell_type": "code",
   "execution_count": 23,
   "id": "be220710-0711-472e-8ae2-cfae56ba336e",
   "metadata": {},
   "outputs": [
    {
     "data": {
      "text/plain": [
       "(71311, 3)"
      ]
     },
     "execution_count": 23,
     "metadata": {},
     "output_type": "execute_result"
    }
   ],
   "source": [
    "df_temp.shape"
   ]
  },
  {
   "cell_type": "code",
   "execution_count": 24,
   "id": "06899a8a-7ce3-4834-bd4e-2794f388ee97",
   "metadata": {},
   "outputs": [
    {
     "data": {
      "text/plain": [
       "0        False\n",
       "1        False\n",
       "2        False\n",
       "3        False\n",
       "4        False\n",
       "         ...  \n",
       "71306     True\n",
       "71307     True\n",
       "71308     True\n",
       "71309     True\n",
       "71310     True\n",
       "Length: 71311, dtype: bool"
      ]
     },
     "execution_count": 24,
     "metadata": {},
     "output_type": "execute_result"
    }
   ],
   "source": [
    "df_temp.duplicated()"
   ]
  },
  {
   "cell_type": "code",
   "execution_count": 25,
   "id": "8a7542c2-5b02-4a77-b58b-49eba4be7266",
   "metadata": {},
   "outputs": [
    {
     "data": {
      "text/plain": [
       "year           0\n",
       "country        0\n",
       "avg_temp    2547\n",
       "dtype: int64"
      ]
     },
     "execution_count": 25,
     "metadata": {},
     "output_type": "execute_result"
    }
   ],
   "source": [
    "df_temp.isnull().sum()"
   ]
  },
  {
   "cell_type": "code",
   "execution_count": 26,
   "id": "3e1786ce-a271-4711-ba97-f4a6365bb130",
   "metadata": {},
   "outputs": [
    {
     "data": {
      "text/html": [
       "<div>\n",
       "<style scoped>\n",
       "    .dataframe tbody tr th:only-of-type {\n",
       "        vertical-align: middle;\n",
       "    }\n",
       "\n",
       "    .dataframe tbody tr th {\n",
       "        vertical-align: top;\n",
       "    }\n",
       "\n",
       "    .dataframe thead th {\n",
       "        text-align: right;\n",
       "    }\n",
       "</style>\n",
       "<table border=\"1\" class=\"dataframe\">\n",
       "  <thead>\n",
       "    <tr style=\"text-align: right;\">\n",
       "      <th></th>\n",
       "      <th>year</th>\n",
       "      <th>avg_temp</th>\n",
       "    </tr>\n",
       "  </thead>\n",
       "  <tbody>\n",
       "    <tr>\n",
       "      <th>count</th>\n",
       "      <td>71311.000000</td>\n",
       "      <td>68764.000000</td>\n",
       "    </tr>\n",
       "    <tr>\n",
       "      <th>mean</th>\n",
       "      <td>1905.799007</td>\n",
       "      <td>16.183876</td>\n",
       "    </tr>\n",
       "    <tr>\n",
       "      <th>std</th>\n",
       "      <td>67.102099</td>\n",
       "      <td>7.592960</td>\n",
       "    </tr>\n",
       "    <tr>\n",
       "      <th>min</th>\n",
       "      <td>1743.000000</td>\n",
       "      <td>-14.350000</td>\n",
       "    </tr>\n",
       "    <tr>\n",
       "      <th>25%</th>\n",
       "      <td>1858.000000</td>\n",
       "      <td>9.750000</td>\n",
       "    </tr>\n",
       "    <tr>\n",
       "      <th>50%</th>\n",
       "      <td>1910.000000</td>\n",
       "      <td>16.140000</td>\n",
       "    </tr>\n",
       "    <tr>\n",
       "      <th>75%</th>\n",
       "      <td>1962.000000</td>\n",
       "      <td>23.762500</td>\n",
       "    </tr>\n",
       "    <tr>\n",
       "      <th>max</th>\n",
       "      <td>2013.000000</td>\n",
       "      <td>30.730000</td>\n",
       "    </tr>\n",
       "  </tbody>\n",
       "</table>\n",
       "</div>"
      ],
      "text/plain": [
       "               year      avg_temp\n",
       "count  71311.000000  68764.000000\n",
       "mean    1905.799007     16.183876\n",
       "std       67.102099      7.592960\n",
       "min     1743.000000    -14.350000\n",
       "25%     1858.000000      9.750000\n",
       "50%     1910.000000     16.140000\n",
       "75%     1962.000000     23.762500\n",
       "max     2013.000000     30.730000"
      ]
     },
     "execution_count": 26,
     "metadata": {},
     "output_type": "execute_result"
    }
   ],
   "source": [
    "df_temp.describe()"
   ]
  },
  {
   "cell_type": "code",
   "execution_count": 27,
   "id": "ddfdfa8c-13da-4b1c-9f4d-840300467eb9",
   "metadata": {},
   "outputs": [
    {
     "data": {
      "text/plain": [
       "Index(['year', 'country', 'avg_temp'], dtype='object')"
      ]
     },
     "execution_count": 27,
     "metadata": {},
     "output_type": "execute_result"
    }
   ],
   "source": [
    "df_temp.columns"
   ]
  },
  {
   "cell_type": "code",
   "execution_count": 28,
   "id": "98203458-b2c6-4a72-bd64-bc7eef44225f",
   "metadata": {},
   "outputs": [],
   "source": [
    "df_temp=df_temp.rename(columns={'country':'Area'})"
   ]
  },
  {
   "cell_type": "code",
   "execution_count": 29,
   "id": "54937ce5-9803-4b07-bfeb-a0fc94d4a9bf",
   "metadata": {},
   "outputs": [
    {
     "data": {
      "text/plain": [
       "Index(['year', 'Area', 'avg_temp'], dtype='object')"
      ]
     },
     "execution_count": 29,
     "metadata": {},
     "output_type": "execute_result"
    }
   ],
   "source": [
    "df_temp.columns"
   ]
  },
  {
   "cell_type": "code",
   "execution_count": 30,
   "id": "08797bd9-1de1-4296-b14c-69729462a10d",
   "metadata": {},
   "outputs": [
    {
     "name": "stdout",
     "output_type": "stream",
     "text": [
      "\n",
      "Unique values in 'year':\n",
      "[1849 1850 1851 1852 1853 1854 1855 1856 1857 1858 1859 1860 1861 1862\n",
      " 1863 1864 1865 1866 1867 1868 1869 1870 1871 1872 1873 1874 1875 1876\n",
      " 1877 1878 1879 1880 1881 1882 1883 1884 1885 1886 1887 1888 1889 1890\n",
      " 1891 1892 1893 1894 1895 1896 1897 1898 1899 1900 1901 1902 1903 1904\n",
      " 1905 1906 1907 1908 1909 1910 1911 1912 1913 1914 1915 1916 1917 1918\n",
      " 1919 1920 1921 1922 1923 1924 1925 1926 1927 1928 1929 1930 1931 1932\n",
      " 1933 1934 1935 1936 1937 1938 1939 1940 1941 1942 1943 1944 1945 1946\n",
      " 1947 1948 1949 1950 1951 1952 1953 1954 1955 1956 1957 1958 1959 1960\n",
      " 1961 1962 1963 1964 1965 1966 1967 1968 1969 1970 1971 1972 1973 1974\n",
      " 1975 1976 1977 1978 1979 1980 1981 1982 1983 1984 1985 1986 1987 1988\n",
      " 1989 1990 1991 1992 1993 1994 1995 1996 1997 1998 1999 2000 2001 2002\n",
      " 2003 2004 2005 2006 2007 2008 2009 2010 2011 2012 2013 1843 1844 1845\n",
      " 1846 1847 1848 1791 1792 1793 1794 1795 1796 1797 1798 1799 1800 1801\n",
      " 1802 1803 1804 1805 1806 1807 1808 1809 1810 1811 1812 1813 1814 1815\n",
      " 1816 1817 1818 1819 1820 1821 1822 1823 1824 1825 1826 1827 1828 1829\n",
      " 1830 1831 1832 1833 1834 1835 1836 1837 1838 1839 1840 1841 1842 1743\n",
      " 1744 1745 1746 1747 1748 1749 1750 1751 1752 1753 1754 1755 1756 1757\n",
      " 1758 1759 1760 1761 1762 1763 1764 1765 1766 1767 1768 1769 1770 1771\n",
      " 1772 1773 1774 1775 1776 1777 1778 1779 1780 1781 1782 1783 1784 1785\n",
      " 1786 1787 1788 1789 1790]\n",
      "\n",
      "Unique values in 'Area':\n",
      "[\"Côte D'Ivoire\" 'United Arab Emirates' 'Nigeria' 'Ghana' 'Turkey'\n",
      " 'Australia' 'India' 'United States' 'Egypt' 'Algeria' 'Kazakhstan'\n",
      " 'Netherlands' 'China' 'Madagascar' 'Eritrea' 'Greece' 'Iraq' 'Azerbaijan'\n",
      " 'Mali' 'Indonesia' 'Thailand' 'Central African Republic' 'Spain'\n",
      " 'Venezuela' 'Colombia' 'Lebanon' 'United Kingdom' 'Serbia' 'Brazil'\n",
      " 'Libya' 'Germany' 'Switzerland' 'Guinea Bissau' 'Slovakia' 'Congo'\n",
      " 'Belgium' 'Romania' 'Hungary' 'Burundi' 'Morocco' 'Russia' 'Moldova'\n",
      " 'Sri Lanka' 'Guinea' 'Denmark' 'Argentina' 'Senegal' 'Syria' 'Tanzania'\n",
      " 'Bangladesh' 'Qatar' 'Cameroon' 'Ireland' 'South Africa' 'Tajikistan'\n",
      " 'Mexico' 'Pakistan' 'Sierra Leone' 'Botswana' 'Guyana' 'Guatemala'\n",
      " 'Ecuador' 'Vietnam' 'Zimbabwe' 'Finland' 'Japan' 'Sudan' 'Afghanistan'\n",
      " 'Uganda' 'Taiwan' 'Nepal' 'Ukraine' 'Rwanda' 'Canada' 'Jamaica'\n",
      " 'Congo (Democratic Republic Of The)' 'Malaysia' 'Bolivia' 'Gabon'\n",
      " 'Malawi' 'Peru' 'Portugal' 'Slovenia' 'Chile' 'Angola' 'Zambia'\n",
      " 'Equatorial Guinea' 'Nicaragua' 'Bahrain' 'Philippines' 'Mozambique'\n",
      " 'Lesotho' 'Iran' 'Saudi Arabia' 'Italy' 'Belarus' 'Somalia' 'Liberia'\n",
      " 'Uruguay' 'Kenya' 'Bahamas' 'Niger' 'Mauritania' 'Norway' 'Burkina Faso'\n",
      " 'Suriname' 'France' 'Montenegro' 'Haiti' 'Mauritius' 'Papua New Guinea'\n",
      " 'Czech Republic' 'Latvia' 'El Salvador' 'Dominican Republic'\n",
      " 'Bosnia And Herzegovina' 'South Korea' 'Hong Kong' 'Singapore'\n",
      " 'Macedonia' 'Bulgaria' 'Sweden' 'Estonia' 'Uzbekistan' 'Georgia'\n",
      " 'Honduras' 'Albania' 'Tunisia' 'Mongolia' 'Austria' 'Laos' 'Lithuania'\n",
      " 'Poland' 'New Zealand' 'Namibia' 'Armenia' 'Croatia']\n",
      "\n",
      "Unique values in 'avg_temp':\n",
      "[25.58 25.52 25.67 ... -2.04 -3.04 -3.37]\n"
     ]
    }
   ],
   "source": [
    "for col in df_temp:\n",
    "    print(f\"\\nUnique values in '{col}':\")\n",
    "    print(df_temp[col].unique())"
   ]
  },
  {
   "cell_type": "markdown",
   "id": "82560d3b-fb3f-4743-995f-113410def576",
   "metadata": {},
   "source": [
    "# Sort by country and year,Since it's one temperature value per country per year,so sort 1st and then group by country"
   ]
  },
  {
   "cell_type": "code",
   "execution_count": 31,
   "id": "9bb3ad6e-4dd0-4729-a0a1-f9c26ddab145",
   "metadata": {},
   "outputs": [],
   "source": [
    "df_temp.sort_values([\"Area\",\"year\"],inplace=True)"
   ]
  },
  {
   "cell_type": "code",
   "execution_count": 32,
   "id": "1ea10b43-e6a2-4b28-8b78-309dbf9b6baa",
   "metadata": {},
   "outputs": [],
   "source": [
    "#Group by country (to ensure you fill within each country)\n",
    "\n",
    "#Use .transform() (to ensure it applies to each column correctly)\n",
    "\n",
    "#Apply .ffill() and .bfill() to multiple columns at once\n",
    "\n"
   ]
  },
  {
   "cell_type": "code",
   "execution_count": 33,
   "id": "267105d4-238d-4e82-93c1-305fab74d49c",
   "metadata": {},
   "outputs": [],
   "source": [
    "df_temp['avg_temp'] = (\n",
    "    df_temp.groupby('Area')['avg_temp']\n",
    "      .transform(lambda group: group.ffill().bfill())\n",
    ")\n"
   ]
  },
  {
   "cell_type": "code",
   "execution_count": null,
   "id": "60f3ef0a-b691-4221-ad38-2ca3e15f0aeb",
   "metadata": {},
   "outputs": [],
   "source": [
    "# cross check the missing value"
   ]
  },
  {
   "cell_type": "code",
   "execution_count": 35,
   "id": "490c1da4-c7a4-457f-b01b-bb305ca54b84",
   "metadata": {},
   "outputs": [
    {
     "name": "stdout",
     "output_type": "stream",
     "text": [
      "Missing values after filling:\n",
      "0\n"
     ]
    }
   ],
   "source": [
    "print(\"Missing values after filling:\")\n",
    "print(df_temp[\"avg_temp\"].isna().sum())"
   ]
  },
  {
   "cell_type": "code",
   "execution_count": 36,
   "id": "29d222f7-de8f-4392-98a7-4181bbd97c9b",
   "metadata": {
    "scrolled": true
   },
   "outputs": [
    {
     "data": {
      "text/plain": [
       "<bound method DataFrame.info of        year         Area  avg_temp\n",
       "29523  1833  Afghanistan     13.91\n",
       "29524  1834  Afghanistan     13.91\n",
       "29525  1835  Afghanistan     14.71\n",
       "29526  1836  Afghanistan     14.71\n",
       "29527  1837  Afghanistan     15.47\n",
       "...     ...          ...       ...\n",
       "24947  2009     Zimbabwe     20.52\n",
       "24948  2010     Zimbabwe     21.17\n",
       "24949  2011     Zimbabwe     20.78\n",
       "24950  2012     Zimbabwe     20.52\n",
       "24951  2013     Zimbabwe     19.76\n",
       "\n",
       "[71311 rows x 3 columns]>"
      ]
     },
     "execution_count": 36,
     "metadata": {},
     "output_type": "execute_result"
    }
   ],
   "source": [
    "df_temp.info"
   ]
  },
  {
   "cell_type": "code",
   "execution_count": 37,
   "id": "3e35f725-2e85-43c3-86c7-41a5b8778156",
   "metadata": {},
   "outputs": [
    {
     "data": {
      "text/plain": [
       "Index(['year', 'Area', 'avg_temp'], dtype='object')"
      ]
     },
     "execution_count": 37,
     "metadata": {},
     "output_type": "execute_result"
    }
   ],
   "source": [
    "df_temp.columns"
   ]
  },
  {
   "cell_type": "code",
   "execution_count": 38,
   "id": "136b057e-a685-4b14-a771-d4cf47ed8741",
   "metadata": {},
   "outputs": [
    {
     "data": {
      "text/html": [
       "<div>\n",
       "<style scoped>\n",
       "    .dataframe tbody tr th:only-of-type {\n",
       "        vertical-align: middle;\n",
       "    }\n",
       "\n",
       "    .dataframe tbody tr th {\n",
       "        vertical-align: top;\n",
       "    }\n",
       "\n",
       "    .dataframe thead th {\n",
       "        text-align: right;\n",
       "    }\n",
       "</style>\n",
       "<table border=\"1\" class=\"dataframe\">\n",
       "  <thead>\n",
       "    <tr style=\"text-align: right;\">\n",
       "      <th></th>\n",
       "      <th>year</th>\n",
       "      <th>Area</th>\n",
       "      <th>avg_temp</th>\n",
       "    </tr>\n",
       "  </thead>\n",
       "  <tbody>\n",
       "    <tr>\n",
       "      <th>29523</th>\n",
       "      <td>1833</td>\n",
       "      <td>Afghanistan</td>\n",
       "      <td>13.91</td>\n",
       "    </tr>\n",
       "    <tr>\n",
       "      <th>29524</th>\n",
       "      <td>1834</td>\n",
       "      <td>Afghanistan</td>\n",
       "      <td>13.91</td>\n",
       "    </tr>\n",
       "    <tr>\n",
       "      <th>29525</th>\n",
       "      <td>1835</td>\n",
       "      <td>Afghanistan</td>\n",
       "      <td>14.71</td>\n",
       "    </tr>\n",
       "    <tr>\n",
       "      <th>29526</th>\n",
       "      <td>1836</td>\n",
       "      <td>Afghanistan</td>\n",
       "      <td>14.71</td>\n",
       "    </tr>\n",
       "  </tbody>\n",
       "</table>\n",
       "</div>"
      ],
      "text/plain": [
       "       year         Area  avg_temp\n",
       "29523  1833  Afghanistan     13.91\n",
       "29524  1834  Afghanistan     13.91\n",
       "29525  1835  Afghanistan     14.71\n",
       "29526  1836  Afghanistan     14.71"
      ]
     },
     "execution_count": 38,
     "metadata": {},
     "output_type": "execute_result"
    }
   ],
   "source": [
    "df_temp.head(4)"
   ]
  },
  {
   "cell_type": "markdown",
   "id": "89839730-138c-480a-85c0-3afd9f553fc6",
   "metadata": {},
   "source": [
    "# PESTICIDE DATA"
   ]
  },
  {
   "cell_type": "code",
   "execution_count": 39,
   "id": "988f5822-309e-4d8b-b20b-d378e3ff1532",
   "metadata": {},
   "outputs": [],
   "source": [
    "df_pesticide=pd.read_csv(\"C:\\\\Users\\\\A S P I R E 7\\\\OneDrive - mishu\\\\Desktop\\\\python course\\\\CROP YIELD PREDICTION\\\\pesticides.csv\")"
   ]
  },
  {
   "cell_type": "code",
   "execution_count": 40,
   "id": "ae19c7b2-0bbd-40fa-b2ce-3549b7174f73",
   "metadata": {},
   "outputs": [
    {
     "name": "stdout",
     "output_type": "stream",
     "text": [
      "<class 'pandas.core.frame.DataFrame'>\n",
      "RangeIndex: 4349 entries, 0 to 4348\n",
      "Data columns (total 7 columns):\n",
      " #   Column   Non-Null Count  Dtype  \n",
      "---  ------   --------------  -----  \n",
      " 0   Domain   4349 non-null   object \n",
      " 1   Area     4349 non-null   object \n",
      " 2   Element  4349 non-null   object \n",
      " 3   Item     4349 non-null   object \n",
      " 4   Year     4349 non-null   int64  \n",
      " 5   Unit     4349 non-null   object \n",
      " 6   Value    4349 non-null   float64\n",
      "dtypes: float64(1), int64(1), object(5)\n",
      "memory usage: 238.0+ KB\n"
     ]
    }
   ],
   "source": [
    "df_pesticide.info()"
   ]
  },
  {
   "cell_type": "code",
   "execution_count": 41,
   "id": "70b279d5-ce91-4d67-b577-16afb89a89d8",
   "metadata": {},
   "outputs": [
    {
     "data": {
      "text/plain": [
       "Index(['Domain', 'Area', 'Element', 'Item', 'Year', 'Unit', 'Value'], dtype='object')"
      ]
     },
     "execution_count": 41,
     "metadata": {},
     "output_type": "execute_result"
    }
   ],
   "source": [
    "df_pesticide.columns"
   ]
  },
  {
   "cell_type": "code",
   "execution_count": 42,
   "id": "de0aaf52-030b-4239-ac76-1887e1b11487",
   "metadata": {},
   "outputs": [],
   "source": [
    "df_pesticide_new=df_pesticide[['Area', 'Year','Value']]"
   ]
  },
  {
   "cell_type": "markdown",
   "id": "c1db7d7b-95bd-4a06-820b-bcbbc8e63452",
   "metadata": {},
   "source": [
    "# USE FOR LOOP TO SEE UNIQUE VALUE "
   ]
  },
  {
   "cell_type": "code",
   "execution_count": 43,
   "id": "202e03f6-7e2a-48fc-90aa-3246fc6f34b8",
   "metadata": {},
   "outputs": [
    {
     "name": "stdout",
     "output_type": "stream",
     "text": [
      "\n",
      "Unique values in 'Area':\n",
      "['Albania' 'Algeria' 'Angola' 'Antigua and Barbuda' 'Argentina' 'Armenia'\n",
      " 'Australia' 'Austria' 'Azerbaijan' 'Bahamas' 'Bahrain' 'Bangladesh'\n",
      " 'Barbados' 'Belarus' 'Belgium' 'Belgium-Luxembourg' 'Belize' 'Bermuda'\n",
      " 'Bhutan' 'Bolivia (Plurinational State of)' 'Botswana' 'Brazil'\n",
      " 'Brunei Darussalam' 'Bulgaria' 'Burkina Faso' 'Burundi' 'Cabo Verde'\n",
      " 'Cameroon' 'Canada' 'Central African Republic' 'Chad' 'Chile'\n",
      " 'China, Hong Kong SAR' 'China, Macao SAR' 'China, mainland'\n",
      " 'China, Taiwan Province of' 'Colombia' 'Comoros' 'Congo' 'Cook Islands'\n",
      " 'Costa Rica' \"Côte d'Ivoire\" 'Croatia' 'Cyprus' 'Czechia' 'Denmark'\n",
      " 'Dominican Republic' 'Ecuador' 'Egypt' 'El Salvador' 'Eritrea' 'Estonia'\n",
      " 'Ethiopia' 'Fiji' 'Finland' 'France' 'French Polynesia' 'Gambia'\n",
      " 'Germany' 'Ghana' 'Greece' 'Guatemala' 'Guinea' 'Guinea-Bissau' 'Guyana'\n",
      " 'Haiti' 'Honduras' 'Hungary' 'Iceland' 'India' 'Indonesia'\n",
      " 'Iran (Islamic Republic of)' 'Iraq' 'Ireland' 'Israel' 'Italy' 'Jamaica'\n",
      " 'Japan' 'Jordan' 'Kazakhstan' 'Kenya' 'Kuwait' 'Kyrgyzstan'\n",
      " \"Lao People's Democratic Republic\" 'Latvia' 'Lebanon' 'Lesotho' 'Libya'\n",
      " 'Lithuania' 'Luxembourg' 'Madagascar' 'Malawi' 'Malaysia' 'Maldives'\n",
      " 'Mali' 'Malta' 'Mauritania' 'Mauritius' 'Mexico' 'Montenegro' 'Morocco'\n",
      " 'Mozambique' 'Myanmar' 'Namibia' 'Nepal' 'Netherlands' 'New Caledonia'\n",
      " 'New Zealand' 'Nicaragua' 'Niger' 'Norway'\n",
      " 'Occupied Palestinian Territory' 'Oman' 'Pakistan' 'Panama'\n",
      " 'Papua New Guinea' 'Paraguay' 'Peru' 'Poland' 'Portugal' 'Qatar'\n",
      " 'Republic of Korea' 'Republic of Moldova' 'Romania' 'Russian Federation'\n",
      " 'Rwanda' 'Saint Kitts and Nevis' 'Saint Lucia' 'Samoa' 'Saudi Arabia'\n",
      " 'Senegal' 'Serbia and Montenegro' 'Seychelles' 'Slovakia' 'Slovenia'\n",
      " 'South Africa' 'Spain' 'Sri Lanka' 'Sudan' 'Sudan (former)' 'Suriname'\n",
      " 'Sweden' 'Switzerland' 'Syrian Arab Republic' 'Tajikistan' 'Thailand'\n",
      " 'The former Yugoslav Republic of Macedonia' 'Timor-Leste' 'Togo' 'Tonga'\n",
      " 'Trinidad and Tobago' 'Tunisia' 'Turkey' 'Turkmenistan' 'Uganda'\n",
      " 'Ukraine' 'United Kingdom' 'United Republic of Tanzania'\n",
      " 'United States of America' 'Uruguay' 'USSR' 'Vanuatu'\n",
      " 'Venezuela (Bolivarian Republic of)' 'Viet Nam' 'Yemen' 'Yugoslav SFR'\n",
      " 'Zambia' 'Zimbabwe']\n",
      "\n",
      "Unique values in 'Year':\n",
      "[1990 1991 1992 1993 1994 1995 1996 1997 1998 1999 2000 2001 2002 2003\n",
      " 2004 2005 2006 2007 2008 2009 2010 2011 2012 2013 2014 2015 2016]\n",
      "\n",
      "Unique values in 'Value':\n",
      "[ 121.    201.    251.   ... 3375.53 2550.07 2185.07]\n"
     ]
    }
   ],
   "source": [
    "\n",
    "\n",
    "for col in df_pesticide_new:\n",
    "    print(f\"\\nUnique values in '{col}':\")\n",
    "    print(df_pesticide_new[col].unique())\n"
   ]
  },
  {
   "cell_type": "markdown",
   "id": "19b17bbf-33d6-40fc-823b-e3ae63d96c95",
   "metadata": {},
   "source": [
    "# yield"
   ]
  },
  {
   "cell_type": "code",
   "execution_count": 44,
   "id": "09655992-a925-4a61-bfd4-c532c949dae3",
   "metadata": {},
   "outputs": [
    {
     "data": {
      "text/plain": [
       "Index(['Area', 'Year', 'Item', 'Value'], dtype='object')"
      ]
     },
     "execution_count": 44,
     "metadata": {},
     "output_type": "execute_result"
    }
   ],
   "source": [
    "df_yield_new.columns"
   ]
  },
  {
   "cell_type": "code",
   "execution_count": 45,
   "id": "5d1bdadc-b307-4ae7-a38b-1fc7530e56f8",
   "metadata": {},
   "outputs": [
    {
     "data": {
      "text/plain": [
       "<bound method DataFrame.info of               Area  Year   Item  Value\n",
       "0      Afghanistan  1961  Maize  14000\n",
       "1      Afghanistan  1962  Maize  14000\n",
       "2      Afghanistan  1963  Maize  14260\n",
       "3      Afghanistan  1964  Maize  14257\n",
       "4      Afghanistan  1965  Maize  14400\n",
       "...            ...   ...    ...    ...\n",
       "56712     Zimbabwe  2012  Wheat  24420\n",
       "56713     Zimbabwe  2013  Wheat  22888\n",
       "56714     Zimbabwe  2014  Wheat  21357\n",
       "56715     Zimbabwe  2015  Wheat  19826\n",
       "56716     Zimbabwe  2016  Wheat  18294\n",
       "\n",
       "[56717 rows x 4 columns]>"
      ]
     },
     "execution_count": 45,
     "metadata": {},
     "output_type": "execute_result"
    }
   ],
   "source": [
    "df_yield_new.info"
   ]
  },
  {
   "cell_type": "code",
   "execution_count": 46,
   "id": "b152a21a-c65b-4d54-bebc-8a129d74e04e",
   "metadata": {},
   "outputs": [],
   "source": [
    "df_yield_new=df_yield_new.rename(columns={\"Value\":\"Yield_output\"})"
   ]
  },
  {
   "cell_type": "markdown",
   "id": "0e7380aa-3d08-4029-92d7-f89e6ce5afee",
   "metadata": {},
   "source": [
    "# rainfall"
   ]
  },
  {
   "cell_type": "code",
   "execution_count": 47,
   "id": "4c26b341-485c-497d-ac4f-4d1d47767b2a",
   "metadata": {},
   "outputs": [
    {
     "data": {
      "text/plain": [
       "Index([' Area', 'Year', 'average_rain_fall_mm_per_year'], dtype='object')"
      ]
     },
     "execution_count": 47,
     "metadata": {},
     "output_type": "execute_result"
    }
   ],
   "source": [
    "df_rainfall.columns"
   ]
  },
  {
   "cell_type": "code",
   "execution_count": 48,
   "id": "a671c01d-6575-4561-865c-168c6a7c6c96",
   "metadata": {},
   "outputs": [
    {
     "data": {
      "text/plain": [
       "<bound method DataFrame.info of              Area  Year average_rain_fall_mm_per_year\n",
       "0     Afghanistan  1985                           327\n",
       "1     Afghanistan  1986                           327\n",
       "2     Afghanistan  1987                           327\n",
       "3     Afghanistan  1989                           327\n",
       "4     Afghanistan  1990                           327\n",
       "...           ...   ...                           ...\n",
       "6722     Zimbabwe  2013                           657\n",
       "6723     Zimbabwe  2014                           657\n",
       "6724     Zimbabwe  2015                           657\n",
       "6725     Zimbabwe  2016                           657\n",
       "6726     Zimbabwe  2017                           657\n",
       "\n",
       "[6727 rows x 3 columns]>"
      ]
     },
     "execution_count": 48,
     "metadata": {},
     "output_type": "execute_result"
    }
   ],
   "source": [
    "df_rainfall.info"
   ]
  },
  {
   "cell_type": "code",
   "execution_count": 49,
   "id": "23ded293-61d1-4fb7-b848-acee8f95e3ec",
   "metadata": {},
   "outputs": [
    {
     "data": {
      "text/plain": [
       "Index(['year', 'Area', 'avg_temp'], dtype='object')"
      ]
     },
     "execution_count": 49,
     "metadata": {},
     "output_type": "execute_result"
    }
   ],
   "source": [
    "df_temp.columns"
   ]
  },
  {
   "cell_type": "markdown",
   "id": "0a93bb93-cfc2-408b-be72-f77f1f2ecc52",
   "metadata": {},
   "source": [
    "# pesteside"
   ]
  },
  {
   "cell_type": "code",
   "execution_count": 50,
   "id": "a614d8bc-314d-4259-b2ef-69f882512da6",
   "metadata": {},
   "outputs": [
    {
     "data": {
      "text/plain": [
       "Index(['Area', 'Year', 'Value'], dtype='object')"
      ]
     },
     "execution_count": 50,
     "metadata": {},
     "output_type": "execute_result"
    }
   ],
   "source": [
    "df_pesticide_new.columns"
   ]
  },
  {
   "cell_type": "code",
   "execution_count": 51,
   "id": "4113444c-c6cd-468f-a404-ab5311adab5a",
   "metadata": {},
   "outputs": [
    {
     "data": {
      "text/plain": [
       "<bound method DataFrame.info of           Area  Year    Value\n",
       "0      Albania  1990   121.00\n",
       "1      Albania  1991   121.00\n",
       "2      Albania  1992   121.00\n",
       "3      Albania  1993   121.00\n",
       "4      Albania  1994   201.00\n",
       "...        ...   ...      ...\n",
       "4344  Zimbabwe  2012  3375.53\n",
       "4345  Zimbabwe  2013  2550.07\n",
       "4346  Zimbabwe  2014  2185.07\n",
       "4347  Zimbabwe  2015  2185.07\n",
       "4348  Zimbabwe  2016  2185.07\n",
       "\n",
       "[4349 rows x 3 columns]>"
      ]
     },
     "execution_count": 51,
     "metadata": {},
     "output_type": "execute_result"
    }
   ],
   "source": [
    "df_pesticide_new.info"
   ]
  },
  {
   "cell_type": "code",
   "execution_count": 52,
   "id": "4d3f10b0-f2be-4041-ad3d-b1e5fce3ef71",
   "metadata": {},
   "outputs": [],
   "source": [
    "df_pesticide_new=df_pesticide_new.rename(columns={\"Value\":\"Pesticide_use\"})"
   ]
  },
  {
   "cell_type": "code",
   "execution_count": 53,
   "id": "3d7dfbce-5176-455f-9f55-d5b630d296f5",
   "metadata": {},
   "outputs": [],
   "source": [
    "#temp"
   ]
  },
  {
   "cell_type": "code",
   "execution_count": 54,
   "id": "efe0665a-95ee-4995-86aa-1fb13a700ff8",
   "metadata": {},
   "outputs": [],
   "source": [
    "df_temp=df_temp.rename(columns={\"year\":\"Year\"})"
   ]
  },
  {
   "cell_type": "code",
   "execution_count": 55,
   "id": "32fccabc-c037-4a77-9463-90fdb616ca89",
   "metadata": {},
   "outputs": [
    {
     "data": {
      "text/plain": [
       "<bound method DataFrame.info of        Year         Area  avg_temp\n",
       "29523  1833  Afghanistan     13.91\n",
       "29524  1834  Afghanistan     13.91\n",
       "29525  1835  Afghanistan     14.71\n",
       "29526  1836  Afghanistan     14.71\n",
       "29527  1837  Afghanistan     15.47\n",
       "...     ...          ...       ...\n",
       "24947  2009     Zimbabwe     20.52\n",
       "24948  2010     Zimbabwe     21.17\n",
       "24949  2011     Zimbabwe     20.78\n",
       "24950  2012     Zimbabwe     20.52\n",
       "24951  2013     Zimbabwe     19.76\n",
       "\n",
       "[71311 rows x 3 columns]>"
      ]
     },
     "execution_count": 55,
     "metadata": {},
     "output_type": "execute_result"
    }
   ],
   "source": [
    "df_temp.info"
   ]
  },
  {
   "cell_type": "code",
   "execution_count": 56,
   "id": "66b4931a-8127-446e-919f-83b24447ab76",
   "metadata": {},
   "outputs": [],
   "source": [
    "df_yield_new.columns=df_yield_new.columns.str.strip()"
   ]
  },
  {
   "cell_type": "code",
   "execution_count": 57,
   "id": "268a4553-26cb-433e-87f8-5517892121d7",
   "metadata": {},
   "outputs": [],
   "source": [
    "df_rainfall.columns=df_rainfall.columns.str.strip()"
   ]
  },
  {
   "cell_type": "code",
   "execution_count": 58,
   "id": "04dec1de-118e-4d1c-81dd-e1b5bfb9e46f",
   "metadata": {},
   "outputs": [],
   "source": [
    "df_pesticide_new.columns=df_pesticide_new.columns.str.strip()"
   ]
  },
  {
   "cell_type": "code",
   "execution_count": 59,
   "id": "29a414c2-9b1c-4cd8-b714-e278942435fe",
   "metadata": {},
   "outputs": [],
   "source": [
    "df_temp.columns=df_temp.columns.str.strip()"
   ]
  },
  {
   "cell_type": "code",
   "execution_count": 60,
   "id": "a52502dd-9967-47f4-80b1-1bb5ada71539",
   "metadata": {},
   "outputs": [],
   "source": [
    "df_merged=pd.merge(df_yield_new,df_rainfall,on=[\"Area\",\"Year\"],how=\"left\")\n",
    "                   "
   ]
  },
  {
   "cell_type": "code",
   "execution_count": 61,
   "id": "6a6dc5b0-600c-41a1-b327-f89d57fce770",
   "metadata": {},
   "outputs": [],
   "source": [
    "df_merged1=pd.merge(df_merged,df_temp,on=[\"Area\",\"Year\"],how=\"left\")"
   ]
  },
  {
   "cell_type": "code",
   "execution_count": 62,
   "id": "9f4ae3a3-82f6-4c19-84d6-b89fb371622a",
   "metadata": {},
   "outputs": [],
   "source": [
    "df_merged2=pd.merge(df_merged1,df_pesticide_new,on=[\"Area\",\"Year\"],how=\"left\")"
   ]
  },
  {
   "cell_type": "code",
   "execution_count": 63,
   "id": "f295dbe3-e7af-4531-8ddb-37948ed16522",
   "metadata": {},
   "outputs": [
    {
     "name": "stdout",
     "output_type": "stream",
     "text": [
      "               Area  Year   Item  Yield_output average_rain_fall_mm_per_year  \\\n",
      "0       Afghanistan  1961  Maize         14000                           NaN   \n",
      "1       Afghanistan  1962  Maize         14000                           NaN   \n",
      "2       Afghanistan  1963  Maize         14260                           NaN   \n",
      "3       Afghanistan  1964  Maize         14257                           NaN   \n",
      "4       Afghanistan  1965  Maize         14400                           NaN   \n",
      "...             ...   ...    ...           ...                           ...   \n",
      "109361     Zimbabwe  2012  Wheat         24420                           657   \n",
      "109362     Zimbabwe  2013  Wheat         22888                           657   \n",
      "109363     Zimbabwe  2014  Wheat         21357                           657   \n",
      "109364     Zimbabwe  2015  Wheat         19826                           657   \n",
      "109365     Zimbabwe  2016  Wheat         18294                           657   \n",
      "\n",
      "        avg_temp  Pesticide_use  \n",
      "0          14.23            NaN  \n",
      "1          14.10            NaN  \n",
      "2          15.01            NaN  \n",
      "3          13.73            NaN  \n",
      "4          13.90            NaN  \n",
      "...          ...            ...  \n",
      "109361     20.52        3375.53  \n",
      "109362     19.76        2550.07  \n",
      "109363       NaN        2185.07  \n",
      "109364       NaN        2185.07  \n",
      "109365       NaN        2185.07  \n",
      "\n",
      "[109366 rows x 7 columns]\n"
     ]
    }
   ],
   "source": [
    "print(df_merged2)"
   ]
  },
  {
   "cell_type": "code",
   "execution_count": 64,
   "id": "999896ce-c2ee-48fa-85f4-af648a3416fd",
   "metadata": {},
   "outputs": [],
   "source": [
    "#check null value "
   ]
  },
  {
   "cell_type": "code",
   "execution_count": 65,
   "id": "a6370d8d-7cc5-4cd3-861d-889bab7ff567",
   "metadata": {},
   "outputs": [
    {
     "data": {
      "text/plain": [
       "Area                                 0\n",
       "Year                                 0\n",
       "Item                                 0\n",
       "Yield_output                         0\n",
       "average_rain_fall_mm_per_year    57001\n",
       "avg_temp                         24507\n",
       "Pesticide_use                    69448\n",
       "dtype: int64"
      ]
     },
     "execution_count": 65,
     "metadata": {},
     "output_type": "execute_result"
    }
   ],
   "source": [
    "df_merged2.isnull().sum()"
   ]
  },
  {
   "cell_type": "code",
   "execution_count": 66,
   "id": "f03c531b-2a51-48b8-b325-ff5b4c5ebfd5",
   "metadata": {},
   "outputs": [
    {
     "data": {
      "text/plain": [
       "Index(['Area', 'Year', 'Item', 'Yield_output', 'average_rain_fall_mm_per_year',\n",
       "       'avg_temp', 'Pesticide_use'],\n",
       "      dtype='object')"
      ]
     },
     "execution_count": 66,
     "metadata": {},
     "output_type": "execute_result"
    }
   ],
   "source": [
    "df_merged2.columns"
   ]
  },
  {
   "cell_type": "code",
   "execution_count": 67,
   "id": "ef379386-75b9-4de5-9ea3-af267816833b",
   "metadata": {
    "scrolled": true
   },
   "outputs": [
    {
     "data": {
      "text/html": [
       "<div>\n",
       "<style scoped>\n",
       "    .dataframe tbody tr th:only-of-type {\n",
       "        vertical-align: middle;\n",
       "    }\n",
       "\n",
       "    .dataframe tbody tr th {\n",
       "        vertical-align: top;\n",
       "    }\n",
       "\n",
       "    .dataframe thead th {\n",
       "        text-align: right;\n",
       "    }\n",
       "</style>\n",
       "<table border=\"1\" class=\"dataframe\">\n",
       "  <thead>\n",
       "    <tr style=\"text-align: right;\">\n",
       "      <th></th>\n",
       "      <th>Year</th>\n",
       "      <th>Yield_output</th>\n",
       "      <th>avg_temp</th>\n",
       "      <th>Pesticide_use</th>\n",
       "    </tr>\n",
       "  </thead>\n",
       "  <tbody>\n",
       "    <tr>\n",
       "      <th>count</th>\n",
       "      <td>109366.000000</td>\n",
       "      <td>109366.000000</td>\n",
       "      <td>84859.000000</td>\n",
       "      <td>3.991800e+04</td>\n",
       "    </tr>\n",
       "    <tr>\n",
       "      <th>mean</th>\n",
       "      <td>1988.437046</td>\n",
       "      <td>65054.711099</td>\n",
       "      <td>19.692466</td>\n",
       "      <td>3.841459e+04</td>\n",
       "    </tr>\n",
       "    <tr>\n",
       "      <th>std</th>\n",
       "      <td>15.795916</td>\n",
       "      <td>69140.637005</td>\n",
       "      <td>6.737137</td>\n",
       "      <td>1.183517e+05</td>\n",
       "    </tr>\n",
       "    <tr>\n",
       "      <th>min</th>\n",
       "      <td>1961.000000</td>\n",
       "      <td>0.000000</td>\n",
       "      <td>-4.240000</td>\n",
       "      <td>0.000000e+00</td>\n",
       "    </tr>\n",
       "    <tr>\n",
       "      <th>25%</th>\n",
       "      <td>1975.000000</td>\n",
       "      <td>16270.250000</td>\n",
       "      <td>15.470000</td>\n",
       "      <td>8.157900e+02</td>\n",
       "    </tr>\n",
       "    <tr>\n",
       "      <th>50%</th>\n",
       "      <td>1989.000000</td>\n",
       "      <td>37015.500000</td>\n",
       "      <td>20.680000</td>\n",
       "      <td>8.306310e+03</td>\n",
       "    </tr>\n",
       "    <tr>\n",
       "      <th>75%</th>\n",
       "      <td>2002.000000</td>\n",
       "      <td>94200.000000</td>\n",
       "      <td>25.930000</td>\n",
       "      <td>3.940648e+04</td>\n",
       "    </tr>\n",
       "    <tr>\n",
       "      <th>max</th>\n",
       "      <td>2016.000000</td>\n",
       "      <td>1000000.000000</td>\n",
       "      <td>30.650000</td>\n",
       "      <td>1.807000e+06</td>\n",
       "    </tr>\n",
       "  </tbody>\n",
       "</table>\n",
       "</div>"
      ],
      "text/plain": [
       "                Year    Yield_output      avg_temp  Pesticide_use\n",
       "count  109366.000000   109366.000000  84859.000000   3.991800e+04\n",
       "mean     1988.437046    65054.711099     19.692466   3.841459e+04\n",
       "std        15.795916    69140.637005      6.737137   1.183517e+05\n",
       "min      1961.000000        0.000000     -4.240000   0.000000e+00\n",
       "25%      1975.000000    16270.250000     15.470000   8.157900e+02\n",
       "50%      1989.000000    37015.500000     20.680000   8.306310e+03\n",
       "75%      2002.000000    94200.000000     25.930000   3.940648e+04\n",
       "max      2016.000000  1000000.000000     30.650000   1.807000e+06"
      ]
     },
     "execution_count": 67,
     "metadata": {},
     "output_type": "execute_result"
    }
   ],
   "source": [
    "df_merged2.describe()"
   ]
  },
  {
   "cell_type": "markdown",
   "id": "e1a4239c-7289-45b7-b1ba-487e8dfaed8d",
   "metadata": {},
   "source": [
    "# check data types change into numeric "
   ]
  },
  {
   "cell_type": "code",
   "execution_count": 68,
   "id": "d1e06ac2-c1f4-4ede-9ce2-0d2919ad9d34",
   "metadata": {},
   "outputs": [
    {
     "data": {
      "text/plain": [
       "Area                              object\n",
       "Year                               int64\n",
       "Item                              object\n",
       "Yield_output                       int64\n",
       "average_rain_fall_mm_per_year     object\n",
       "avg_temp                         float64\n",
       "Pesticide_use                    float64\n",
       "dtype: object"
      ]
     },
     "execution_count": 68,
     "metadata": {},
     "output_type": "execute_result"
    }
   ],
   "source": [
    "df_merged2[['Area', 'Year', 'Item', 'Yield_output', 'average_rain_fall_mm_per_year',\n",
    "       'avg_temp', 'Pesticide_use']].dtypes"
   ]
  },
  {
   "cell_type": "code",
   "execution_count": 69,
   "id": "25199c2c-fef6-4268-9adc-cfc539c48b6d",
   "metadata": {},
   "outputs": [],
   "source": [
    "df_merged2[\"average_rain_fall_mm_per_year\"] = pd.to_numeric(df_merged2[\"average_rain_fall_mm_per_year\"], errors=\"coerce\")\n",
    "df_merged2[\"avg_temp\"] = pd.to_numeric(df_merged2[\"avg_temp\"], errors=\"coerce\")\n",
    "df_merged2[\"Pesticide_use\"] = pd.to_numeric(df_merged2[\"Pesticide_use\"], errors=\"coerce\")"
   ]
  },
  {
   "cell_type": "code",
   "execution_count": 70,
   "id": "be9a7b79-27d7-45a8-995b-8f9adc04f3f9",
   "metadata": {},
   "outputs": [],
   "source": [
    "\n",
    "df_merged2[\"average_rain_fall_mm_per_year\"] = df_merged2[\"average_rain_fall_mm_per_year\"].fillna(df_merged2[\"average_rain_fall_mm_per_year\"].mean())\n",
    "df_merged2[\"avg_temp\"] = df_merged2[\"avg_temp\"].fillna(df_merged2[\"avg_temp\"].mean())\n",
    "df_merged2[\"Pesticide_use\"] = df_merged2[\"Pesticide_use\"].fillna(0)  # If 0 is acceptable\n"
   ]
  },
  {
   "cell_type": "code",
   "execution_count": 71,
   "id": "c3370541-0da0-4408-970a-0b42aada2a59",
   "metadata": {},
   "outputs": [
    {
     "data": {
      "text/html": [
       "<div>\n",
       "<style scoped>\n",
       "    .dataframe tbody tr th:only-of-type {\n",
       "        vertical-align: middle;\n",
       "    }\n",
       "\n",
       "    .dataframe tbody tr th {\n",
       "        vertical-align: top;\n",
       "    }\n",
       "\n",
       "    .dataframe thead th {\n",
       "        text-align: right;\n",
       "    }\n",
       "</style>\n",
       "<table border=\"1\" class=\"dataframe\">\n",
       "  <thead>\n",
       "    <tr style=\"text-align: right;\">\n",
       "      <th></th>\n",
       "      <th>Area</th>\n",
       "      <th>Year</th>\n",
       "      <th>Item</th>\n",
       "      <th>Yield_output</th>\n",
       "      <th>average_rain_fall_mm_per_year</th>\n",
       "      <th>avg_temp</th>\n",
       "      <th>Pesticide_use</th>\n",
       "    </tr>\n",
       "  </thead>\n",
       "  <tbody>\n",
       "    <tr>\n",
       "      <th>0</th>\n",
       "      <td>Afghanistan</td>\n",
       "      <td>1961</td>\n",
       "      <td>Maize</td>\n",
       "      <td>14000</td>\n",
       "      <td>1143.081356</td>\n",
       "      <td>14.23</td>\n",
       "      <td>0.0</td>\n",
       "    </tr>\n",
       "    <tr>\n",
       "      <th>1</th>\n",
       "      <td>Afghanistan</td>\n",
       "      <td>1962</td>\n",
       "      <td>Maize</td>\n",
       "      <td>14000</td>\n",
       "      <td>1143.081356</td>\n",
       "      <td>14.10</td>\n",
       "      <td>0.0</td>\n",
       "    </tr>\n",
       "    <tr>\n",
       "      <th>2</th>\n",
       "      <td>Afghanistan</td>\n",
       "      <td>1963</td>\n",
       "      <td>Maize</td>\n",
       "      <td>14260</td>\n",
       "      <td>1143.081356</td>\n",
       "      <td>15.01</td>\n",
       "      <td>0.0</td>\n",
       "    </tr>\n",
       "    <tr>\n",
       "      <th>3</th>\n",
       "      <td>Afghanistan</td>\n",
       "      <td>1964</td>\n",
       "      <td>Maize</td>\n",
       "      <td>14257</td>\n",
       "      <td>1143.081356</td>\n",
       "      <td>13.73</td>\n",
       "      <td>0.0</td>\n",
       "    </tr>\n",
       "    <tr>\n",
       "      <th>4</th>\n",
       "      <td>Afghanistan</td>\n",
       "      <td>1965</td>\n",
       "      <td>Maize</td>\n",
       "      <td>14400</td>\n",
       "      <td>1143.081356</td>\n",
       "      <td>13.90</td>\n",
       "      <td>0.0</td>\n",
       "    </tr>\n",
       "  </tbody>\n",
       "</table>\n",
       "</div>"
      ],
      "text/plain": [
       "          Area  Year   Item  Yield_output  average_rain_fall_mm_per_year  \\\n",
       "0  Afghanistan  1961  Maize         14000                    1143.081356   \n",
       "1  Afghanistan  1962  Maize         14000                    1143.081356   \n",
       "2  Afghanistan  1963  Maize         14260                    1143.081356   \n",
       "3  Afghanistan  1964  Maize         14257                    1143.081356   \n",
       "4  Afghanistan  1965  Maize         14400                    1143.081356   \n",
       "\n",
       "   avg_temp  Pesticide_use  \n",
       "0     14.23            0.0  \n",
       "1     14.10            0.0  \n",
       "2     15.01            0.0  \n",
       "3     13.73            0.0  \n",
       "4     13.90            0.0  "
      ]
     },
     "execution_count": 71,
     "metadata": {},
     "output_type": "execute_result"
    }
   ],
   "source": [
    "df_merged2.head(5)"
   ]
  },
  {
   "cell_type": "markdown",
   "id": "4e9ac5ff-8254-4a35-9e5f-e9325d6784a9",
   "metadata": {},
   "source": [
    "#check nell value"
   ]
  },
  {
   "cell_type": "code",
   "execution_count": 72,
   "id": "a52f9907-ca67-49a2-a499-1c76797a2d1c",
   "metadata": {},
   "outputs": [
    {
     "data": {
      "text/plain": [
       "Area                             0\n",
       "Year                             0\n",
       "Item                             0\n",
       "Yield_output                     0\n",
       "average_rain_fall_mm_per_year    0\n",
       "avg_temp                         0\n",
       "Pesticide_use                    0\n",
       "dtype: int64"
      ]
     },
     "execution_count": 72,
     "metadata": {},
     "output_type": "execute_result"
    }
   ],
   "source": [
    "df_merged2.isnull().sum()"
   ]
  },
  {
   "cell_type": "code",
   "execution_count": 73,
   "id": "1c3fe2d4-96ac-48d7-b850-96cb8bce0050",
   "metadata": {},
   "outputs": [
    {
     "data": {
      "text/plain": [
       "0         False\n",
       "1         False\n",
       "2         False\n",
       "3         False\n",
       "4         False\n",
       "          ...  \n",
       "109361    False\n",
       "109362    False\n",
       "109363    False\n",
       "109364    False\n",
       "109365    False\n",
       "Length: 109366, dtype: bool"
      ]
     },
     "execution_count": 73,
     "metadata": {},
     "output_type": "execute_result"
    }
   ],
   "source": [
    "df_merged2.duplicated()"
   ]
  },
  {
   "cell_type": "code",
   "execution_count": 74,
   "id": "88f7606a-b8f1-4e33-97af-a5e875dbf97f",
   "metadata": {},
   "outputs": [
    {
     "data": {
      "text/plain": [
       "np.int64(7138)"
      ]
     },
     "execution_count": 74,
     "metadata": {},
     "output_type": "execute_result"
    }
   ],
   "source": [
    "df_merged2.duplicated().sum()"
   ]
  },
  {
   "cell_type": "code",
   "execution_count": 75,
   "id": "a7ea8c80-db8a-4d29-ade0-5711ca07c4c3",
   "metadata": {},
   "outputs": [],
   "source": [
    "df_merged2.drop_duplicates(inplace=True)"
   ]
  },
  {
   "cell_type": "code",
   "execution_count": 76,
   "id": "2d7194b5-46db-4f26-86fe-72c37503f1e1",
   "metadata": {},
   "outputs": [
    {
     "data": {
      "text/plain": [
       "Area                              object\n",
       "Year                               int64\n",
       "Item                              object\n",
       "Yield_output                       int64\n",
       "average_rain_fall_mm_per_year    float64\n",
       "avg_temp                         float64\n",
       "Pesticide_use                    float64\n",
       "dtype: object"
      ]
     },
     "execution_count": 76,
     "metadata": {},
     "output_type": "execute_result"
    }
   ],
   "source": [
    "df_merged2[['Area', 'Year', 'Item', 'Yield_output', 'average_rain_fall_mm_per_year',\n",
    "       'avg_temp', 'Pesticide_use']].dtypes"
   ]
  },
  {
   "cell_type": "code",
   "execution_count": 77,
   "id": "9c3d0a30-ad66-4e65-b3f2-06e115d2a229",
   "metadata": {},
   "outputs": [
    {
     "data": {
      "text/plain": [
       "np.int64(0)"
      ]
     },
     "execution_count": 77,
     "metadata": {},
     "output_type": "execute_result"
    }
   ],
   "source": [
    "df_merged2.duplicated().sum()"
   ]
  },
  {
   "cell_type": "code",
   "execution_count": 78,
   "id": "dd610fd3-a71c-4d10-9d4e-2aedaaf38b6c",
   "metadata": {},
   "outputs": [
    {
     "data": {
      "text/plain": [
       "(102228, 7)"
      ]
     },
     "execution_count": 78,
     "metadata": {},
     "output_type": "execute_result"
    }
   ],
   "source": [
    "df_merged2.shape"
   ]
  },
  {
   "cell_type": "code",
   "execution_count": 79,
   "id": "8b4d631a-0f84-4183-9942-3820e0e76cf8",
   "metadata": {
    "scrolled": true
   },
   "outputs": [
    {
     "data": {
      "text/html": [
       "<div>\n",
       "<style scoped>\n",
       "    .dataframe tbody tr th:only-of-type {\n",
       "        vertical-align: middle;\n",
       "    }\n",
       "\n",
       "    .dataframe tbody tr th {\n",
       "        vertical-align: top;\n",
       "    }\n",
       "\n",
       "    .dataframe thead th {\n",
       "        text-align: right;\n",
       "    }\n",
       "</style>\n",
       "<table border=\"1\" class=\"dataframe\">\n",
       "  <thead>\n",
       "    <tr style=\"text-align: right;\">\n",
       "      <th></th>\n",
       "      <th>Year</th>\n",
       "      <th>Yield_output</th>\n",
       "      <th>average_rain_fall_mm_per_year</th>\n",
       "      <th>avg_temp</th>\n",
       "      <th>Pesticide_use</th>\n",
       "    </tr>\n",
       "  </thead>\n",
       "  <tbody>\n",
       "    <tr>\n",
       "      <th>count</th>\n",
       "      <td>102228.000000</td>\n",
       "      <td>102228.000000</td>\n",
       "      <td>102228.000000</td>\n",
       "      <td>102228.000000</td>\n",
       "      <td>1.022280e+05</td>\n",
       "    </tr>\n",
       "    <tr>\n",
       "      <th>mean</th>\n",
       "      <td>1988.532809</td>\n",
       "      <td>64922.230915</td>\n",
       "      <td>1146.357803</td>\n",
       "      <td>19.663978</td>\n",
       "      <td>1.352732e+04</td>\n",
       "    </tr>\n",
       "    <tr>\n",
       "      <th>std</th>\n",
       "      <td>15.825819</td>\n",
       "      <td>68932.701543</td>\n",
       "      <td>506.184217</td>\n",
       "      <td>5.973349</td>\n",
       "      <td>7.497112e+04</td>\n",
       "    </tr>\n",
       "    <tr>\n",
       "      <th>min</th>\n",
       "      <td>1961.000000</td>\n",
       "      <td>0.000000</td>\n",
       "      <td>51.000000</td>\n",
       "      <td>-4.240000</td>\n",
       "      <td>0.000000e+00</td>\n",
       "    </tr>\n",
       "    <tr>\n",
       "      <th>25%</th>\n",
       "      <td>1975.000000</td>\n",
       "      <td>16341.000000</td>\n",
       "      <td>1083.000000</td>\n",
       "      <td>16.810000</td>\n",
       "      <td>0.000000e+00</td>\n",
       "    </tr>\n",
       "    <tr>\n",
       "      <th>50%</th>\n",
       "      <td>1989.000000</td>\n",
       "      <td>37368.500000</td>\n",
       "      <td>1143.081356</td>\n",
       "      <td>19.692466</td>\n",
       "      <td>0.000000e+00</td>\n",
       "    </tr>\n",
       "    <tr>\n",
       "      <th>75%</th>\n",
       "      <td>2002.000000</td>\n",
       "      <td>93381.500000</td>\n",
       "      <td>1143.081356</td>\n",
       "      <td>25.210000</td>\n",
       "      <td>1.466000e+03</td>\n",
       "    </tr>\n",
       "    <tr>\n",
       "      <th>max</th>\n",
       "      <td>2016.000000</td>\n",
       "      <td>1000000.000000</td>\n",
       "      <td>3240.000000</td>\n",
       "      <td>30.650000</td>\n",
       "      <td>1.807000e+06</td>\n",
       "    </tr>\n",
       "  </tbody>\n",
       "</table>\n",
       "</div>"
      ],
      "text/plain": [
       "                Year    Yield_output  average_rain_fall_mm_per_year  \\\n",
       "count  102228.000000   102228.000000                  102228.000000   \n",
       "mean     1988.532809    64922.230915                    1146.357803   \n",
       "std        15.825819    68932.701543                     506.184217   \n",
       "min      1961.000000        0.000000                      51.000000   \n",
       "25%      1975.000000    16341.000000                    1083.000000   \n",
       "50%      1989.000000    37368.500000                    1143.081356   \n",
       "75%      2002.000000    93381.500000                    1143.081356   \n",
       "max      2016.000000  1000000.000000                    3240.000000   \n",
       "\n",
       "            avg_temp  Pesticide_use  \n",
       "count  102228.000000   1.022280e+05  \n",
       "mean       19.663978   1.352732e+04  \n",
       "std         5.973349   7.497112e+04  \n",
       "min        -4.240000   0.000000e+00  \n",
       "25%        16.810000   0.000000e+00  \n",
       "50%        19.692466   0.000000e+00  \n",
       "75%        25.210000   1.466000e+03  \n",
       "max        30.650000   1.807000e+06  "
      ]
     },
     "execution_count": 79,
     "metadata": {},
     "output_type": "execute_result"
    }
   ],
   "source": [
    "df_merged2.describe()"
   ]
  },
  {
   "cell_type": "markdown",
   "id": "fd39aad3-e1d3-48cc-8869-dedfe25d3a57",
   "metadata": {},
   "source": [
    "#Detect non numeic string"
   ]
  },
  {
   "cell_type": "markdown",
   "id": "0310df0a-4e02-4965-af39-7af20ba6b48e",
   "metadata": {},
   "source": [
    "def isstr(obj):\n",
    "    if isinstance(obj, str):  # Only proceed if the value is a string\n",
    "        try:\n",
    "            float(obj)  # Try converting it to a float\n",
    "            return False  # If successful, it's numeric-like\n",
    "        except ValueError:  # If it fails, it's a \"bad\" string (e.g., \"abc\")\n",
    "            return True\n",
    "    return False  # If it's not a string at all, return False\n"
   ]
  },
  {
   "cell_type": "markdown",
   "id": "2071f06f-2730-4625-947c-393e5ee0852f",
   "metadata": {},
   "source": [
    "# returns the value of rows where the value is a string and not convertible to float — i.e., invalid data for numerical analysis."
   ]
  },
  {
   "cell_type": "markdown",
   "id": "8bd5d243-3131-4158-86e1-c575abd4509c",
   "metadata": {},
   "source": [
    "If x is a string:\n",
    "\n",
    "It tries to convert it into a float.\n",
    "\n",
    "If the float value is an integer (i.e., it has no fractional part), it returns the value as an integer.\n",
    "\n",
    "If the float value has a fractional part, it returns it as a float.\n",
    "\n",
    "If the conversion fails (e.g., the string cannot be converted to a float), it returns np.nan.\n",
    "\n",
    "If x is not a string (e.g., it’s already a number), it returns x unchanged."
   ]
  },
  {
   "cell_type": "code",
   "execution_count": 80,
   "id": "9770c229-237f-4969-8e26-b7b3fbc770ae",
   "metadata": {},
   "outputs": [],
   "source": [
    "\n",
    "\n",
    "# Function to clean individual values\n",
    "def clean_value(x):\n",
    "    if isinstance(x, str):\n",
    "        try:\n",
    "            val = float(x)\n",
    "            return int(val) if val.is_integer() else val\n",
    "        except:\n",
    "            return np.nan\n",
    "    return x\n",
    "\n",
    "# List of columns to clean\n",
    "columns_to_clean = [\"average_rain_fall_mm_per_year\", \"avg_temp\",\"Pesticide_use\",\"Yield_output\"]\n",
    "\n",
    "# Clean and fill missing values\n",
    "for col in columns_to_clean:\n",
    "    df_merged2[col] = df_merged2[col].apply(clean_value)\n",
    "    mean_val = df_merged2[col].mean(skipna=True)  # Compute mean excluding NaNs\n",
    "    df_merged2[col] = df_merged2[col].fillna(mean_val)  # Fill NaNs with mean\n"
   ]
  },
  {
   "cell_type": "code",
   "execution_count": 81,
   "id": "e886c24f-9557-4b12-ba9d-2438cb8a04a1",
   "metadata": {},
   "outputs": [
    {
     "name": "stdout",
     "output_type": "stream",
     "text": [
      "               Area  Year   Item  Yield_output  average_rain_fall_mm_per_year  \\\n",
      "0       Afghanistan  1961  Maize         14000                    1143.081356   \n",
      "1       Afghanistan  1962  Maize         14000                    1143.081356   \n",
      "2       Afghanistan  1963  Maize         14260                    1143.081356   \n",
      "3       Afghanistan  1964  Maize         14257                    1143.081356   \n",
      "4       Afghanistan  1965  Maize         14400                    1143.081356   \n",
      "...             ...   ...    ...           ...                            ...   \n",
      "109361     Zimbabwe  2012  Wheat         24420                     657.000000   \n",
      "109362     Zimbabwe  2013  Wheat         22888                     657.000000   \n",
      "109363     Zimbabwe  2014  Wheat         21357                     657.000000   \n",
      "109364     Zimbabwe  2015  Wheat         19826                     657.000000   \n",
      "109365     Zimbabwe  2016  Wheat         18294                     657.000000   \n",
      "\n",
      "         avg_temp  Pesticide_use  \n",
      "0       14.230000           0.00  \n",
      "1       14.100000           0.00  \n",
      "2       15.010000           0.00  \n",
      "3       13.730000           0.00  \n",
      "4       13.900000           0.00  \n",
      "...           ...            ...  \n",
      "109361  20.520000        3375.53  \n",
      "109362  19.760000        2550.07  \n",
      "109363  19.692466        2185.07  \n",
      "109364  19.692466        2185.07  \n",
      "109365  19.692466        2185.07  \n",
      "\n",
      "[102228 rows x 7 columns]\n"
     ]
    }
   ],
   "source": [
    "print(df_merged2)"
   ]
  },
  {
   "cell_type": "code",
   "execution_count": 82,
   "id": "598053ef-03d9-4985-b815-cc9929ec238c",
   "metadata": {},
   "outputs": [],
   "source": [
    "#graph for count of country or area (frequency vs area)"
   ]
  },
  {
   "cell_type": "code",
   "execution_count": 83,
   "id": "66752800-20da-450e-8349-6e7961fc424b",
   "metadata": {},
   "outputs": [
    {
     "data": {
      "image/png": "[encoded data removed]",
      "text/plain": [
       "<Figure size 1000x2500 with 1 Axes>"
      ]
     },
     "metadata": {},
     "output_type": "display_data"
    }
   ],
   "source": [
    "plt.figure(figsize=(10, 25))\n",
    "ax = sns.countplot(y=\"Area\", data=df_merged2,hue=\"Area\")\n",
    "\n",
    "# Add count labels to the bars\n",
    "for bar in ax.containers:\n",
    "    ax.bar_label(bar)\n",
    "\n",
    "plt.tight_layout()\n",
    "plt.show()\n"
   ]
  },
  {
   "cell_type": "code",
   "execution_count": 84,
   "id": "4afc44e2-7bc5-4e18-ba07-da77e93dd96d",
   "metadata": {},
   "outputs": [
    {
     "data": {
      "text/plain": [
       "Item\n",
       "Maize                   14731\n",
       "Potatoes                14100\n",
       "Rice, paddy             12072\n",
       "Wheat                   11964\n",
       "Sweet potatoes          11599\n",
       "Sorghum                 10444\n",
       "Soybeans                 9942\n",
       "Cassava                  9852\n",
       "Yams                     4303\n",
       "Plantains and others     3221\n",
       "Name: count, dtype: int64"
      ]
     },
     "execution_count": 84,
     "metadata": {},
     "output_type": "execute_result"
    }
   ],
   "source": [
    "df_merged2[\"Item\"].value_counts()"
   ]
  },
  {
   "cell_type": "code",
   "execution_count": 85,
   "id": "dc5846e2-5504-4c18-8f30-7efb3e320c06",
   "metadata": {},
   "outputs": [
    {
     "data": {
      "image/png": "[encoded data removed]",
      "text/plain": [
       "<Figure size 1000x1000 with 1 Axes>"
      ]
     },
     "metadata": {},
     "output_type": "display_data"
    }
   ],
   "source": [
    "plt.figure(figsize=(10,10))\n",
    "ax=sns.countplot(y=\"Item\",data=df_merged2,hue=\"Item\")\n",
    "for bars in ax.containers:\n",
    "    ax.bar_label(bars,label_type=\"edge\")"
   ]
  },
  {
   "cell_type": "markdown",
   "id": "114e0763-7a50-4490-baf8-b2b671a25803",
   "metadata": {},
   "source": [
    "#Arrange in order"
   ]
  },
  {
   "cell_type": "code",
   "execution_count": 86,
   "id": "fc42f2f5-e02d-4244-89e1-b0d2a847f2c1",
   "metadata": {},
   "outputs": [],
   "source": [
    "df_merged2=df_merged2[['Area','Year','Item','average_rain_fall_mm_per_year','avg_temp','Pesticide_use','Yield_output']]"
   ]
  },
  {
   "cell_type": "code",
   "execution_count": 87,
   "id": "89808750-fcfe-41e4-8c57-cba807f8c801",
   "metadata": {},
   "outputs": [
    {
     "name": "stdout",
     "output_type": "stream",
     "text": [
      "               Area  Year   Item  average_rain_fall_mm_per_year   avg_temp  \\\n",
      "0       Afghanistan  1961  Maize                    1143.081356  14.230000   \n",
      "1       Afghanistan  1962  Maize                    1143.081356  14.100000   \n",
      "2       Afghanistan  1963  Maize                    1143.081356  15.010000   \n",
      "3       Afghanistan  1964  Maize                    1143.081356  13.730000   \n",
      "4       Afghanistan  1965  Maize                    1143.081356  13.900000   \n",
      "...             ...   ...    ...                            ...        ...   \n",
      "109361     Zimbabwe  2012  Wheat                     657.000000  20.520000   \n",
      "109362     Zimbabwe  2013  Wheat                     657.000000  19.760000   \n",
      "109363     Zimbabwe  2014  Wheat                     657.000000  19.692466   \n",
      "109364     Zimbabwe  2015  Wheat                     657.000000  19.692466   \n",
      "109365     Zimbabwe  2016  Wheat                     657.000000  19.692466   \n",
      "\n",
      "        Pesticide_use  Yield_output  \n",
      "0                0.00         14000  \n",
      "1                0.00         14000  \n",
      "2                0.00         14260  \n",
      "3                0.00         14257  \n",
      "4                0.00         14400  \n",
      "...               ...           ...  \n",
      "109361        3375.53         24420  \n",
      "109362        2550.07         22888  \n",
      "109363        2185.07         21357  \n",
      "109364        2185.07         19826  \n",
      "109365        2185.07         18294  \n",
      "\n",
      "[102228 rows x 7 columns]\n"
     ]
    }
   ],
   "source": [
    "print(df_merged2)"
   ]
  },
  {
   "cell_type": "code",
   "execution_count": 88,
   "id": "24e8939d-91b8-4f4f-8f36-fa79f856a97f",
   "metadata": {},
   "outputs": [
    {
     "data": {
      "text/html": [
       "<div>\n",
       "<style scoped>\n",
       "    .dataframe tbody tr th:only-of-type {\n",
       "        vertical-align: middle;\n",
       "    }\n",
       "\n",
       "    .dataframe tbody tr th {\n",
       "        vertical-align: top;\n",
       "    }\n",
       "\n",
       "    .dataframe thead th {\n",
       "        text-align: right;\n",
       "    }\n",
       "</style>\n",
       "<table border=\"1\" class=\"dataframe\">\n",
       "  <thead>\n",
       "    <tr style=\"text-align: right;\">\n",
       "      <th></th>\n",
       "      <th>Year</th>\n",
       "      <th>average_rain_fall_mm_per_year</th>\n",
       "      <th>avg_temp</th>\n",
       "      <th>Pesticide_use</th>\n",
       "      <th>Yield_output</th>\n",
       "    </tr>\n",
       "  </thead>\n",
       "  <tbody>\n",
       "    <tr>\n",
       "      <th>count</th>\n",
       "      <td>102228.000000</td>\n",
       "      <td>102228.000000</td>\n",
       "      <td>102228.000000</td>\n",
       "      <td>1.022280e+05</td>\n",
       "      <td>102228.000000</td>\n",
       "    </tr>\n",
       "    <tr>\n",
       "      <th>mean</th>\n",
       "      <td>1988.532809</td>\n",
       "      <td>1146.357803</td>\n",
       "      <td>19.663978</td>\n",
       "      <td>1.352732e+04</td>\n",
       "      <td>64922.230915</td>\n",
       "    </tr>\n",
       "    <tr>\n",
       "      <th>std</th>\n",
       "      <td>15.825819</td>\n",
       "      <td>506.184217</td>\n",
       "      <td>5.973349</td>\n",
       "      <td>7.497112e+04</td>\n",
       "      <td>68932.701543</td>\n",
       "    </tr>\n",
       "    <tr>\n",
       "      <th>min</th>\n",
       "      <td>1961.000000</td>\n",
       "      <td>51.000000</td>\n",
       "      <td>-4.240000</td>\n",
       "      <td>0.000000e+00</td>\n",
       "      <td>0.000000</td>\n",
       "    </tr>\n",
       "    <tr>\n",
       "      <th>25%</th>\n",
       "      <td>1975.000000</td>\n",
       "      <td>1083.000000</td>\n",
       "      <td>16.810000</td>\n",
       "      <td>0.000000e+00</td>\n",
       "      <td>16341.000000</td>\n",
       "    </tr>\n",
       "    <tr>\n",
       "      <th>50%</th>\n",
       "      <td>1989.000000</td>\n",
       "      <td>1143.081356</td>\n",
       "      <td>19.692466</td>\n",
       "      <td>0.000000e+00</td>\n",
       "      <td>37368.500000</td>\n",
       "    </tr>\n",
       "    <tr>\n",
       "      <th>75%</th>\n",
       "      <td>2002.000000</td>\n",
       "      <td>1143.081356</td>\n",
       "      <td>25.210000</td>\n",
       "      <td>1.466000e+03</td>\n",
       "      <td>93381.500000</td>\n",
       "    </tr>\n",
       "    <tr>\n",
       "      <th>max</th>\n",
       "      <td>2016.000000</td>\n",
       "      <td>3240.000000</td>\n",
       "      <td>30.650000</td>\n",
       "      <td>1.807000e+06</td>\n",
       "      <td>1000000.000000</td>\n",
       "    </tr>\n",
       "  </tbody>\n",
       "</table>\n",
       "</div>"
      ],
      "text/plain": [
       "                Year  average_rain_fall_mm_per_year       avg_temp  \\\n",
       "count  102228.000000                  102228.000000  102228.000000   \n",
       "mean     1988.532809                    1146.357803      19.663978   \n",
       "std        15.825819                     506.184217       5.973349   \n",
       "min      1961.000000                      51.000000      -4.240000   \n",
       "25%      1975.000000                    1083.000000      16.810000   \n",
       "50%      1989.000000                    1143.081356      19.692466   \n",
       "75%      2002.000000                    1143.081356      25.210000   \n",
       "max      2016.000000                    3240.000000      30.650000   \n",
       "\n",
       "       Pesticide_use    Yield_output  \n",
       "count   1.022280e+05   102228.000000  \n",
       "mean    1.352732e+04    64922.230915  \n",
       "std     7.497112e+04    68932.701543  \n",
       "min     0.000000e+00        0.000000  \n",
       "25%     0.000000e+00    16341.000000  \n",
       "50%     0.000000e+00    37368.500000  \n",
       "75%     1.466000e+03    93381.500000  \n",
       "max     1.807000e+06  1000000.000000  "
      ]
     },
     "execution_count": 88,
     "metadata": {},
     "output_type": "execute_result"
    }
   ],
   "source": [
    "df_merged2.describe()"
   ]
  },
  {
   "cell_type": "markdown",
   "id": "d69e6855-f3d9-4ec0-ad1d-7893f566c8f9",
   "metadata": {},
   "source": [
    "#Encoding and scalling at a same time"
   ]
  },
  {
   "cell_type": "code",
   "execution_count": 89,
   "id": "0f55e025-715b-40d3-99a4-2be14da95306",
   "metadata": {},
   "outputs": [],
   "source": [
    "from sklearn.compose import ColumnTransformer\n",
    "from sklearn.preprocessing import OneHotEncoder, StandardScaler"
   ]
  },
  {
   "cell_type": "code",
   "execution_count": 90,
   "id": "39712e21-513f-418c-b11d-6032a935bddc",
   "metadata": {},
   "outputs": [],
   "source": [
    "ohe = OneHotEncoder(drop=\"first\")\n",
    "scaler = StandardScaler()\n",
    "\n",
    "preprocessor = ColumnTransformer(\n",
    "    transformers=[\n",
    "        (\"OneHotEncoder\", ohe, [0, 2]),\n",
    "        (\"standardization\", scaler, [1, 3, 4, 5])\n",
    "    ],\n",
    "    remainder=\"passthrough\"\n",
    ")\n"
   ]
  },
  {
   "cell_type": "code",
   "execution_count": 91,
   "id": "97b93cbf-10a0-4617-b3ce-cd7b6aaaa2ac",
   "metadata": {},
   "outputs": [
    {
     "data": {
      "text/html": [
       "<style>#sk-container-id-1 {\n",
       "  /* Definition of color scheme common for light and dark mode */\n",
       "  --sklearn-color-text: #000;\n",
       "  --sklearn-color-text-muted: #666;\n",
       "  --sklearn-color-line: gray;\n",
       "  /* Definition of color scheme for unfitted estimators */\n",
       "  --sklearn-color-unfitted-level-0: #fff5e6;\n",
       "  --sklearn-color-unfitted-level-1: #f6e4d2;\n",
       "  --sklearn-color-unfitted-level-2: #ffe0b3;\n",
       "  --sklearn-color-unfitted-level-3: chocolate;\n",
       "  /* Definition of color scheme for fitted estimators */\n",
       "  --sklearn-color-fitted-level-0: #f0f8ff;\n",
       "  --sklearn-color-fitted-level-1: #d4ebff;\n",
       "  --sklearn-color-fitted-level-2: #b3dbfd;\n",
       "  --sklearn-color-fitted-level-3: cornflowerblue;\n",
       "\n",
       "  /* Specific color for light theme */\n",
       "  --sklearn-color-text-on-default-background: var(--sg-text-color, var(--theme-code-foreground, var(--jp-content-font-color1, black)));\n",
       "  --sklearn-color-background: var(--sg-background-color, var(--theme-background, var(--jp-layout-color0, white)));\n",
       "  --sklearn-color-border-box: var(--sg-text-color, var(--theme-code-foreground, var(--jp-content-font-color1, black)));\n",
       "  --sklearn-color-icon: #696969;\n",
       "\n",
       "  @media (prefers-color-scheme: dark) {\n",
       "    /* Redefinition of color scheme for dark theme */\n",
       "    --sklearn-color-text-on-default-background: var(--sg-text-color, var(--theme-code-foreground, var(--jp-content-font-color1, white)));\n",
       "    --sklearn-color-background: var(--sg-background-color, var(--theme-background, var(--jp-layout-color0, #111)));\n",
       "    --sklearn-color-border-box: var(--sg-text-color, var(--theme-code-foreground, var(--jp-content-font-color1, white)));\n",
       "    --sklearn-color-icon: #878787;\n",
       "  }\n",
       "}\n",
       "\n",
       "#sk-container-id-1 {\n",
       "  color: var(--sklearn-color-text);\n",
       "}\n",
       "\n",
       "#sk-container-id-1 pre {\n",
       "  padding: 0;\n",
       "}\n",
       "\n",
       "#sk-container-id-1 input.sk-hidden--visually {\n",
       "  border: 0;\n",
       "  clip: rect(1px 1px 1px 1px);\n",
       "  clip: rect(1px, 1px, 1px, 1px);\n",
       "  height: 1px;\n",
       "  margin: -1px;\n",
       "  overflow: hidden;\n",
       "  padding: 0;\n",
       "  position: absolute;\n",
       "  width: 1px;\n",
       "}\n",
       "\n",
       "#sk-container-id-1 div.sk-dashed-wrapped {\n",
       "  border: 1px dashed var(--sklearn-color-line);\n",
       "  margin: 0 0.4em 0.5em 0.4em;\n",
       "  box-sizing: border-box;\n",
       "  padding-bottom: 0.4em;\n",
       "  background-color: var(--sklearn-color-background);\n",
       "}\n",
       "\n",
       "#sk-container-id-1 div.sk-container {\n",
       "  /* jupyter's `normalize.less` sets `[hidden] { display: none; }`\n",
       "     but bootstrap.min.css set `[hidden] { display: none !important; }`\n",
       "     so we also need the `!important` here to be able to override the\n",
       "     default hidden behavior on the sphinx rendered scikit-learn.org.\n",
       "     See: https://github.com/scikit-learn/scikit-learn/issues/21755 */\n",
       "  display: inline-block !important;\n",
       "  position: relative;\n",
       "}\n",
       "\n",
       "#sk-container-id-1 div.sk-text-repr-fallback {\n",
       "  display: none;\n",
       "}\n",
       "\n",
       "div.sk-parallel-item,\n",
       "div.sk-serial,\n",
       "div.sk-item {\n",
       "  /* draw centered vertical line to link estimators */\n",
       "  background-image: linear-gradient(var(--sklearn-color-text-on-default-background), var(--sklearn-color-text-on-default-background));\n",
       "  background-size: 2px 100%;\n",
       "  background-repeat: no-repeat;\n",
       "  background-position: center center;\n",
       "}\n",
       "\n",
       "/* Parallel-specific style estimator block */\n",
       "\n",
       "#sk-container-id-1 div.sk-parallel-item::after {\n",
       "  content: \"\";\n",
       "  width: 100%;\n",
       "  border-bottom: 2px solid var(--sklearn-color-text-on-default-background);\n",
       "  flex-grow: 1;\n",
       "}\n",
       "\n",
       "#sk-container-id-1 div.sk-parallel {\n",
       "  display: flex;\n",
       "  align-items: stretch;\n",
       "  justify-content: center;\n",
       "  background-color: var(--sklearn-color-background);\n",
       "  position: relative;\n",
       "}\n",
       "\n",
       "#sk-container-id-1 div.sk-parallel-item {\n",
       "  display: flex;\n",
       "  flex-direction: column;\n",
       "}\n",
       "\n",
       "#sk-container-id-1 div.sk-parallel-item:first-child::after {\n",
       "  align-self: flex-end;\n",
       "  width: 50%;\n",
       "}\n",
       "\n",
       "#sk-container-id-1 div.sk-parallel-item:last-child::after {\n",
       "  align-self: flex-start;\n",
       "  width: 50%;\n",
       "}\n",
       "\n",
       "#sk-container-id-1 div.sk-parallel-item:only-child::after {\n",
       "  width: 0;\n",
       "}\n",
       "\n",
       "/* Serial-specific style estimator block */\n",
       "\n",
       "#sk-container-id-1 div.sk-serial {\n",
       "  display: flex;\n",
       "  flex-direction: column;\n",
       "  align-items: center;\n",
       "  background-color: var(--sklearn-color-background);\n",
       "  padding-right: 1em;\n",
       "  padding-left: 1em;\n",
       "}\n",
       "\n",
       "\n",
       "/* Toggleable style: style used for estimator/Pipeline/ColumnTransformer box that is\n",
       "clickable and can be expanded/collapsed.\n",
       "- Pipeline and ColumnTransformer use this feature and define the default style\n",
       "- Estimators will overwrite some part of the style using the `sk-estimator` class\n",
       "*/\n",
       "\n",
       "/* Pipeline and ColumnTransformer style (default) */\n",
       "\n",
       "#sk-container-id-1 div.sk-toggleable {\n",
       "  /* Default theme specific background. It is overwritten whether we have a\n",
       "  specific estimator or a Pipeline/ColumnTransformer */\n",
       "  background-color: var(--sklearn-color-background);\n",
       "}\n",
       "\n",
       "/* Toggleable label */\n",
       "#sk-container-id-1 label.sk-toggleable__label {\n",
       "  cursor: pointer;\n",
       "  display: flex;\n",
       "  width: 100%;\n",
       "  margin-bottom: 0;\n",
       "  padding: 0.5em;\n",
       "  box-sizing: border-box;\n",
       "  text-align: center;\n",
       "  align-items: start;\n",
       "  justify-content: space-between;\n",
       "  gap: 0.5em;\n",
       "}\n",
       "\n",
       "#sk-container-id-1 label.sk-toggleable__label .caption {\n",
       "  font-size: 0.6rem;\n",
       "  font-weight: lighter;\n",
       "  color: var(--sklearn-color-text-muted);\n",
       "}\n",
       "\n",
       "#sk-container-id-1 label.sk-toggleable__label-arrow:before {\n",
       "  /* Arrow on the left of the label */\n",
       "  content: \"▸\";\n",
       "  float: left;\n",
       "  margin-right: 0.25em;\n",
       "  color: var(--sklearn-color-icon);\n",
       "}\n",
       "\n",
       "#sk-container-id-1 label.sk-toggleable__label-arrow:hover:before {\n",
       "  color: var(--sklearn-color-text);\n",
       "}\n",
       "\n",
       "/* Toggleable content - dropdown */\n",
       "\n",
       "#sk-container-id-1 div.sk-toggleable__content {\n",
       "  max-height: 0;\n",
       "  max-width: 0;\n",
       "  overflow: hidden;\n",
       "  text-align: left;\n",
       "  /* unfitted */\n",
       "  background-color: var(--sklearn-color-unfitted-level-0);\n",
       "}\n",
       "\n",
       "#sk-container-id-1 div.sk-toggleable__content.fitted {\n",
       "  /* fitted */\n",
       "  background-color: var(--sklearn-color-fitted-level-0);\n",
       "}\n",
       "\n",
       "#sk-container-id-1 div.sk-toggleable__content pre {\n",
       "  margin: 0.2em;\n",
       "  border-radius: 0.25em;\n",
       "  color: var(--sklearn-color-text);\n",
       "  /* unfitted */\n",
       "  background-color: var(--sklearn-color-unfitted-level-0);\n",
       "}\n",
       "\n",
       "#sk-container-id-1 div.sk-toggleable__content.fitted pre {\n",
       "  /* unfitted */\n",
       "  background-color: var(--sklearn-color-fitted-level-0);\n",
       "}\n",
       "\n",
       "#sk-container-id-1 input.sk-toggleable__control:checked~div.sk-toggleable__content {\n",
       "  /* Expand drop-down */\n",
       "  max-height: 200px;\n",
       "  max-width: 100%;\n",
       "  overflow: auto;\n",
       "}\n",
       "\n",
       "#sk-container-id-1 input.sk-toggleable__control:checked~label.sk-toggleable__label-arrow:before {\n",
       "  content: \"▾\";\n",
       "}\n",
       "\n",
       "/* Pipeline/ColumnTransformer-specific style */\n",
       "\n",
       "#sk-container-id-1 div.sk-label input.sk-toggleable__control:checked~label.sk-toggleable__label {\n",
       "  color: var(--sklearn-color-text);\n",
       "  background-color: var(--sklearn-color-unfitted-level-2);\n",
       "}\n",
       "\n",
       "#sk-container-id-1 div.sk-label.fitted input.sk-toggleable__control:checked~label.sk-toggleable__label {\n",
       "  background-color: var(--sklearn-color-fitted-level-2);\n",
       "}\n",
       "\n",
       "/* Estimator-specific style */\n",
       "\n",
       "/* Colorize estimator box */\n",
       "#sk-container-id-1 div.sk-estimator input.sk-toggleable__control:checked~label.sk-toggleable__label {\n",
       "  /* unfitted */\n",
       "  background-color: var(--sklearn-color-unfitted-level-2);\n",
       "}\n",
       "\n",
       "#sk-container-id-1 div.sk-estimator.fitted input.sk-toggleable__control:checked~label.sk-toggleable__label {\n",
       "  /* fitted */\n",
       "  background-color: var(--sklearn-color-fitted-level-2);\n",
       "}\n",
       "\n",
       "#sk-container-id-1 div.sk-label label.sk-toggleable__label,\n",
       "#sk-container-id-1 div.sk-label label {\n",
       "  /* The background is the default theme color */\n",
       "  color: var(--sklearn-color-text-on-default-background);\n",
       "}\n",
       "\n",
       "/* On hover, darken the color of the background */\n",
       "#sk-container-id-1 div.sk-label:hover label.sk-toggleable__label {\n",
       "  color: var(--sklearn-color-text);\n",
       "  background-color: var(--sklearn-color-unfitted-level-2);\n",
       "}\n",
       "\n",
       "/* Label box, darken color on hover, fitted */\n",
       "#sk-container-id-1 div.sk-label.fitted:hover label.sk-toggleable__label.fitted {\n",
       "  color: var(--sklearn-color-text);\n",
       "  background-color: var(--sklearn-color-fitted-level-2);\n",
       "}\n",
       "\n",
       "/* Estimator label */\n",
       "\n",
       "#sk-container-id-1 div.sk-label label {\n",
       "  font-family: monospace;\n",
       "  font-weight: bold;\n",
       "  display: inline-block;\n",
       "  line-height: 1.2em;\n",
       "}\n",
       "\n",
       "#sk-container-id-1 div.sk-label-container {\n",
       "  text-align: center;\n",
       "}\n",
       "\n",
       "/* Estimator-specific */\n",
       "#sk-container-id-1 div.sk-estimator {\n",
       "  font-family: monospace;\n",
       "  border: 1px dotted var(--sklearn-color-border-box);\n",
       "  border-radius: 0.25em;\n",
       "  box-sizing: border-box;\n",
       "  margin-bottom: 0.5em;\n",
       "  /* unfitted */\n",
       "  background-color: var(--sklearn-color-unfitted-level-0);\n",
       "}\n",
       "\n",
       "#sk-container-id-1 div.sk-estimator.fitted {\n",
       "  /* fitted */\n",
       "  background-color: var(--sklearn-color-fitted-level-0);\n",
       "}\n",
       "\n",
       "/* on hover */\n",
       "#sk-container-id-1 div.sk-estimator:hover {\n",
       "  /* unfitted */\n",
       "  background-color: var(--sklearn-color-unfitted-level-2);\n",
       "}\n",
       "\n",
       "#sk-container-id-1 div.sk-estimator.fitted:hover {\n",
       "  /* fitted */\n",
       "  background-color: var(--sklearn-color-fitted-level-2);\n",
       "}\n",
       "\n",
       "/* Specification for estimator info (e.g. \"i\" and \"?\") */\n",
       "\n",
       "/* Common style for \"i\" and \"?\" */\n",
       "\n",
       ".sk-estimator-doc-link,\n",
       "a:link.sk-estimator-doc-link,\n",
       "a:visited.sk-estimator-doc-link {\n",
       "  float: right;\n",
       "  font-size: smaller;\n",
       "  line-height: 1em;\n",
       "  font-family: monospace;\n",
       "  background-color: var(--sklearn-color-background);\n",
       "  border-radius: 1em;\n",
       "  height: 1em;\n",
       "  width: 1em;\n",
       "  text-decoration: none !important;\n",
       "  margin-left: 0.5em;\n",
       "  text-align: center;\n",
       "  /* unfitted */\n",
       "  border: var(--sklearn-color-unfitted-level-1) 1pt solid;\n",
       "  color: var(--sklearn-color-unfitted-level-1);\n",
       "}\n",
       "\n",
       ".sk-estimator-doc-link.fitted,\n",
       "a:link.sk-estimator-doc-link.fitted,\n",
       "a:visited.sk-estimator-doc-link.fitted {\n",
       "  /* fitted */\n",
       "  border: var(--sklearn-color-fitted-level-1) 1pt solid;\n",
       "  color: var(--sklearn-color-fitted-level-1);\n",
       "}\n",
       "\n",
       "/* On hover */\n",
       "div.sk-estimator:hover .sk-estimator-doc-link:hover,\n",
       ".sk-estimator-doc-link:hover,\n",
       "div.sk-label-container:hover .sk-estimator-doc-link:hover,\n",
       ".sk-estimator-doc-link:hover {\n",
       "  /* unfitted */\n",
       "  background-color: var(--sklearn-color-unfitted-level-3);\n",
       "  color: var(--sklearn-color-background);\n",
       "  text-decoration: none;\n",
       "}\n",
       "\n",
       "div.sk-estimator.fitted:hover .sk-estimator-doc-link.fitted:hover,\n",
       ".sk-estimator-doc-link.fitted:hover,\n",
       "div.sk-label-container:hover .sk-estimator-doc-link.fitted:hover,\n",
       ".sk-estimator-doc-link.fitted:hover {\n",
       "  /* fitted */\n",
       "  background-color: var(--sklearn-color-fitted-level-3);\n",
       "  color: var(--sklearn-color-background);\n",
       "  text-decoration: none;\n",
       "}\n",
       "\n",
       "/* Span, style for the box shown on hovering the info icon */\n",
       ".sk-estimator-doc-link span {\n",
       "  display: none;\n",
       "  z-index: 9999;\n",
       "  position: relative;\n",
       "  font-weight: normal;\n",
       "  right: .2ex;\n",
       "  padding: .5ex;\n",
       "  margin: .5ex;\n",
       "  width: min-content;\n",
       "  min-width: 20ex;\n",
       "  max-width: 50ex;\n",
       "  color: var(--sklearn-color-text);\n",
       "  box-shadow: 2pt 2pt 4pt #999;\n",
       "  /* unfitted */\n",
       "  background: var(--sklearn-color-unfitted-level-0);\n",
       "  border: .5pt solid var(--sklearn-color-unfitted-level-3);\n",
       "}\n",
       "\n",
       ".sk-estimator-doc-link.fitted span {\n",
       "  /* fitted */\n",
       "  background: var(--sklearn-color-fitted-level-0);\n",
       "  border: var(--sklearn-color-fitted-level-3);\n",
       "}\n",
       "\n",
       ".sk-estimator-doc-link:hover span {\n",
       "  display: block;\n",
       "}\n",
       "\n",
       "/* \"?\"-specific style due to the `<a>` HTML tag */\n",
       "\n",
       "#sk-container-id-1 a.estimator_doc_link {\n",
       "  float: right;\n",
       "  font-size: 1rem;\n",
       "  line-height: 1em;\n",
       "  font-family: monospace;\n",
       "  background-color: var(--sklearn-color-background);\n",
       "  border-radius: 1rem;\n",
       "  height: 1rem;\n",
       "  width: 1rem;\n",
       "  text-decoration: none;\n",
       "  /* unfitted */\n",
       "  color: var(--sklearn-color-unfitted-level-1);\n",
       "  border: var(--sklearn-color-unfitted-level-1) 1pt solid;\n",
       "}\n",
       "\n",
       "#sk-container-id-1 a.estimator_doc_link.fitted {\n",
       "  /* fitted */\n",
       "  border: var(--sklearn-color-fitted-level-1) 1pt solid;\n",
       "  color: var(--sklearn-color-fitted-level-1);\n",
       "}\n",
       "\n",
       "/* On hover */\n",
       "#sk-container-id-1 a.estimator_doc_link:hover {\n",
       "  /* unfitted */\n",
       "  background-color: var(--sklearn-color-unfitted-level-3);\n",
       "  color: var(--sklearn-color-background);\n",
       "  text-decoration: none;\n",
       "}\n",
       "\n",
       "#sk-container-id-1 a.estimator_doc_link.fitted:hover {\n",
       "  /* fitted */\n",
       "  background-color: var(--sklearn-color-fitted-level-3);\n",
       "}\n",
       "</style><div id=\"sk-container-id-1\" class=\"sk-top-container\"><div class=\"sk-text-repr-fallback\"><pre>ColumnTransformer(remainder=&#x27;passthrough&#x27;,\n",
       "                  transformers=[(&#x27;OneHotEncoder&#x27;, OneHotEncoder(drop=&#x27;first&#x27;),\n",
       "                                 [0, 2]),\n",
       "                                (&#x27;standardization&#x27;, StandardScaler(),\n",
       "                                 [1, 3, 4, 5])])</pre><b>In a Jupyter environment, please rerun this cell to show the HTML representation or trust the notebook. <br />On GitHub, the HTML representation is unable to render, please try loading this page with nbviewer.org.</b></div><div class=\"sk-container\" hidden><div class=\"sk-item sk-dashed-wrapped\"><div class=\"sk-label-container\"><div class=\"sk-label  sk-toggleable\"><input class=\"sk-toggleable__control sk-hidden--visually\" id=\"sk-estimator-id-1\" type=\"checkbox\" ><label for=\"sk-estimator-id-1\" class=\"sk-toggleable__label  sk-toggleable__label-arrow\"><div><div>ColumnTransformer</div></div><div><a class=\"sk-estimator-doc-link \" rel=\"noreferrer\" target=\"_blank\" href=\"https://scikit-learn.org/1.6/modules/generated/sklearn.compose.ColumnTransformer.html\">?<span>Documentation for ColumnTransformer</span></a><span class=\"sk-estimator-doc-link \">i<span>Not fitted</span></span></div></label><div class=\"sk-toggleable__content \"><pre>ColumnTransformer(remainder=&#x27;passthrough&#x27;,\n",
       "                  transformers=[(&#x27;OneHotEncoder&#x27;, OneHotEncoder(drop=&#x27;first&#x27;),\n",
       "                                 [0, 2]),\n",
       "                                (&#x27;standardization&#x27;, StandardScaler(),\n",
       "                                 [1, 3, 4, 5])])</pre></div> </div></div><div class=\"sk-parallel\"><div class=\"sk-parallel-item\"><div class=\"sk-item\"><div class=\"sk-label-container\"><div class=\"sk-label  sk-toggleable\"><input class=\"sk-toggleable__control sk-hidden--visually\" id=\"sk-estimator-id-2\" type=\"checkbox\" ><label for=\"sk-estimator-id-2\" class=\"sk-toggleable__label  sk-toggleable__label-arrow\"><div><div>OneHotEncoder</div></div></label><div class=\"sk-toggleable__content \"><pre>[0, 2]</pre></div> </div></div><div class=\"sk-serial\"><div class=\"sk-item\"><div class=\"sk-estimator  sk-toggleable\"><input class=\"sk-toggleable__control sk-hidden--visually\" id=\"sk-estimator-id-3\" type=\"checkbox\" ><label for=\"sk-estimator-id-3\" class=\"sk-toggleable__label  sk-toggleable__label-arrow\"><div><div>OneHotEncoder</div></div><div><a class=\"sk-estimator-doc-link \" rel=\"noreferrer\" target=\"_blank\" href=\"https://scikit-learn.org/1.6/modules/generated/sklearn.preprocessing.OneHotEncoder.html\">?<span>Documentation for OneHotEncoder</span></a></div></label><div class=\"sk-toggleable__content \"><pre>OneHotEncoder(drop=&#x27;first&#x27;)</pre></div> </div></div></div></div></div><div class=\"sk-parallel-item\"><div class=\"sk-item\"><div class=\"sk-label-container\"><div class=\"sk-label  sk-toggleable\"><input class=\"sk-toggleable__control sk-hidden--visually\" id=\"sk-estimator-id-4\" type=\"checkbox\" ><label for=\"sk-estimator-id-4\" class=\"sk-toggleable__label  sk-toggleable__label-arrow\"><div><div>standardization</div></div></label><div class=\"sk-toggleable__content \"><pre>[1, 3, 4, 5]</pre></div> </div></div><div class=\"sk-serial\"><div class=\"sk-item\"><div class=\"sk-estimator  sk-toggleable\"><input class=\"sk-toggleable__control sk-hidden--visually\" id=\"sk-estimator-id-5\" type=\"checkbox\" ><label for=\"sk-estimator-id-5\" class=\"sk-toggleable__label  sk-toggleable__label-arrow\"><div><div>StandardScaler</div></div><div><a class=\"sk-estimator-doc-link \" rel=\"noreferrer\" target=\"_blank\" href=\"https://scikit-learn.org/1.6/modules/generated/sklearn.preprocessing.StandardScaler.html\">?<span>Documentation for StandardScaler</span></a></div></label><div class=\"sk-toggleable__content \"><pre>StandardScaler()</pre></div> </div></div></div></div></div><div class=\"sk-parallel-item\"><div class=\"sk-item\"><div class=\"sk-label-container\"><div class=\"sk-label  sk-toggleable\"><input class=\"sk-toggleable__control sk-hidden--visually\" id=\"sk-estimator-id-6\" type=\"checkbox\" ><label for=\"sk-estimator-id-6\" class=\"sk-toggleable__label  sk-toggleable__label-arrow\"><div><div>remainder</div></div></label><div class=\"sk-toggleable__content \"><pre></pre></div> </div></div><div class=\"sk-serial\"><div class=\"sk-item\"><div class=\"sk-estimator  sk-toggleable\"><input class=\"sk-toggleable__control sk-hidden--visually\" id=\"sk-estimator-id-7\" type=\"checkbox\" ><label for=\"sk-estimator-id-7\" class=\"sk-toggleable__label  sk-toggleable__label-arrow\"><div><div>passthrough</div></div></label><div class=\"sk-toggleable__content \"><pre>passthrough</pre></div> </div></div></div></div></div></div></div></div></div>"
      ],
      "text/plain": [
       "ColumnTransformer(remainder='passthrough',\n",
       "                  transformers=[('OneHotEncoder', OneHotEncoder(drop='first'),\n",
       "                                 [0, 2]),\n",
       "                                ('standardization', StandardScaler(),\n",
       "                                 [1, 3, 4, 5])])"
      ]
     },
     "execution_count": 91,
     "metadata": {},
     "output_type": "execute_result"
    }
   ],
   "source": [
    "preprocessor"
   ]
  },
  {
   "cell_type": "code",
   "execution_count": 92,
   "id": "34b1e2b2-3b8f-4c55-a30c-ea1e4c7f4bab",
   "metadata": {},
   "outputs": [],
   "source": [
    "from sklearn.preprocessing import FunctionTransformer"
   ]
  },
  {
   "cell_type": "code",
   "execution_count": 93,
   "id": "7179f1ff-0614-477c-b79e-289ae7c53304",
   "metadata": {},
   "outputs": [],
   "source": [
    "ft=FunctionTransformer(func=np.log1p)"
   ]
  },
  {
   "cell_type": "code",
   "execution_count": 94,
   "id": "0690ac89-d44e-4ec2-ae12-cf9efbf1b381",
   "metadata": {},
   "outputs": [
    {
     "data": {
      "text/html": [
       "<style>#sk-container-id-2 {\n",
       "  /* Definition of color scheme common for light and dark mode */\n",
       "  --sklearn-color-text: #000;\n",
       "  --sklearn-color-text-muted: #666;\n",
       "  --sklearn-color-line: gray;\n",
       "  /* Definition of color scheme for unfitted estimators */\n",
       "  --sklearn-color-unfitted-level-0: #fff5e6;\n",
       "  --sklearn-color-unfitted-level-1: #f6e4d2;\n",
       "  --sklearn-color-unfitted-level-2: #ffe0b3;\n",
       "  --sklearn-color-unfitted-level-3: chocolate;\n",
       "  /* Definition of color scheme for fitted estimators */\n",
       "  --sklearn-color-fitted-level-0: #f0f8ff;\n",
       "  --sklearn-color-fitted-level-1: #d4ebff;\n",
       "  --sklearn-color-fitted-level-2: #b3dbfd;\n",
       "  --sklearn-color-fitted-level-3: cornflowerblue;\n",
       "\n",
       "  /* Specific color for light theme */\n",
       "  --sklearn-color-text-on-default-background: var(--sg-text-color, var(--theme-code-foreground, var(--jp-content-font-color1, black)));\n",
       "  --sklearn-color-background: var(--sg-background-color, var(--theme-background, var(--jp-layout-color0, white)));\n",
       "  --sklearn-color-border-box: var(--sg-text-color, var(--theme-code-foreground, var(--jp-content-font-color1, black)));\n",
       "  --sklearn-color-icon: #696969;\n",
       "\n",
       "  @media (prefers-color-scheme: dark) {\n",
       "    /* Redefinition of color scheme for dark theme */\n",
       "    --sklearn-color-text-on-default-background: var(--sg-text-color, var(--theme-code-foreground, var(--jp-content-font-color1, white)));\n",
       "    --sklearn-color-background: var(--sg-background-color, var(--theme-background, var(--jp-layout-color0, #111)));\n",
       "    --sklearn-color-border-box: var(--sg-text-color, var(--theme-code-foreground, var(--jp-content-font-color1, white)));\n",
       "    --sklearn-color-icon: #878787;\n",
       "  }\n",
       "}\n",
       "\n",
       "#sk-container-id-2 {\n",
       "  color: var(--sklearn-color-text);\n",
       "}\n",
       "\n",
       "#sk-container-id-2 pre {\n",
       "  padding: 0;\n",
       "}\n",
       "\n",
       "#sk-container-id-2 input.sk-hidden--visually {\n",
       "  border: 0;\n",
       "  clip: rect(1px 1px 1px 1px);\n",
       "  clip: rect(1px, 1px, 1px, 1px);\n",
       "  height: 1px;\n",
       "  margin: -1px;\n",
       "  overflow: hidden;\n",
       "  padding: 0;\n",
       "  position: absolute;\n",
       "  width: 1px;\n",
       "}\n",
       "\n",
       "#sk-container-id-2 div.sk-dashed-wrapped {\n",
       "  border: 1px dashed var(--sklearn-color-line);\n",
       "  margin: 0 0.4em 0.5em 0.4em;\n",
       "  box-sizing: border-box;\n",
       "  padding-bottom: 0.4em;\n",
       "  background-color: var(--sklearn-color-background);\n",
       "}\n",
       "\n",
       "#sk-container-id-2 div.sk-container {\n",
       "  /* jupyter's `normalize.less` sets `[hidden] { display: none; }`\n",
       "     but bootstrap.min.css set `[hidden] { display: none !important; }`\n",
       "     so we also need the `!important` here to be able to override the\n",
       "     default hidden behavior on the sphinx rendered scikit-learn.org.\n",
       "     See: https://github.com/scikit-learn/scikit-learn/issues/21755 */\n",
       "  display: inline-block !important;\n",
       "  position: relative;\n",
       "}\n",
       "\n",
       "#sk-container-id-2 div.sk-text-repr-fallback {\n",
       "  display: none;\n",
       "}\n",
       "\n",
       "div.sk-parallel-item,\n",
       "div.sk-serial,\n",
       "div.sk-item {\n",
       "  /* draw centered vertical line to link estimators */\n",
       "  background-image: linear-gradient(var(--sklearn-color-text-on-default-background), var(--sklearn-color-text-on-default-background));\n",
       "  background-size: 2px 100%;\n",
       "  background-repeat: no-repeat;\n",
       "  background-position: center center;\n",
       "}\n",
       "\n",
       "/* Parallel-specific style estimator block */\n",
       "\n",
       "#sk-container-id-2 div.sk-parallel-item::after {\n",
       "  content: \"\";\n",
       "  width: 100%;\n",
       "  border-bottom: 2px solid var(--sklearn-color-text-on-default-background);\n",
       "  flex-grow: 1;\n",
       "}\n",
       "\n",
       "#sk-container-id-2 div.sk-parallel {\n",
       "  display: flex;\n",
       "  align-items: stretch;\n",
       "  justify-content: center;\n",
       "  background-color: var(--sklearn-color-background);\n",
       "  position: relative;\n",
       "}\n",
       "\n",
       "#sk-container-id-2 div.sk-parallel-item {\n",
       "  display: flex;\n",
       "  flex-direction: column;\n",
       "}\n",
       "\n",
       "#sk-container-id-2 div.sk-parallel-item:first-child::after {\n",
       "  align-self: flex-end;\n",
       "  width: 50%;\n",
       "}\n",
       "\n",
       "#sk-container-id-2 div.sk-parallel-item:last-child::after {\n",
       "  align-self: flex-start;\n",
       "  width: 50%;\n",
       "}\n",
       "\n",
       "#sk-container-id-2 div.sk-parallel-item:only-child::after {\n",
       "  width: 0;\n",
       "}\n",
       "\n",
       "/* Serial-specific style estimator block */\n",
       "\n",
       "#sk-container-id-2 div.sk-serial {\n",
       "  display: flex;\n",
       "  flex-direction: column;\n",
       "  align-items: center;\n",
       "  background-color: var(--sklearn-color-background);\n",
       "  padding-right: 1em;\n",
       "  padding-left: 1em;\n",
       "}\n",
       "\n",
       "\n",
       "/* Toggleable style: style used for estimator/Pipeline/ColumnTransformer box that is\n",
       "clickable and can be expanded/collapsed.\n",
       "- Pipeline and ColumnTransformer use this feature and define the default style\n",
       "- Estimators will overwrite some part of the style using the `sk-estimator` class\n",
       "*/\n",
       "\n",
       "/* Pipeline and ColumnTransformer style (default) */\n",
       "\n",
       "#sk-container-id-2 div.sk-toggleable {\n",
       "  /* Default theme specific background. It is overwritten whether we have a\n",
       "  specific estimator or a Pipeline/ColumnTransformer */\n",
       "  background-color: var(--sklearn-color-background);\n",
       "}\n",
       "\n",
       "/* Toggleable label */\n",
       "#sk-container-id-2 label.sk-toggleable__label {\n",
       "  cursor: pointer;\n",
       "  display: flex;\n",
       "  width: 100%;\n",
       "  margin-bottom: 0;\n",
       "  padding: 0.5em;\n",
       "  box-sizing: border-box;\n",
       "  text-align: center;\n",
       "  align-items: start;\n",
       "  justify-content: space-between;\n",
       "  gap: 0.5em;\n",
       "}\n",
       "\n",
       "#sk-container-id-2 label.sk-toggleable__label .caption {\n",
       "  font-size: 0.6rem;\n",
       "  font-weight: lighter;\n",
       "  color: var(--sklearn-color-text-muted);\n",
       "}\n",
       "\n",
       "#sk-container-id-2 label.sk-toggleable__label-arrow:before {\n",
       "  /* Arrow on the left of the label */\n",
       "  content: \"▸\";\n",
       "  float: left;\n",
       "  margin-right: 0.25em;\n",
       "  color: var(--sklearn-color-icon);\n",
       "}\n",
       "\n",
       "#sk-container-id-2 label.sk-toggleable__label-arrow:hover:before {\n",
       "  color: var(--sklearn-color-text);\n",
       "}\n",
       "\n",
       "/* Toggleable content - dropdown */\n",
       "\n",
       "#sk-container-id-2 div.sk-toggleable__content {\n",
       "  max-height: 0;\n",
       "  max-width: 0;\n",
       "  overflow: hidden;\n",
       "  text-align: left;\n",
       "  /* unfitted */\n",
       "  background-color: var(--sklearn-color-unfitted-level-0);\n",
       "}\n",
       "\n",
       "#sk-container-id-2 div.sk-toggleable__content.fitted {\n",
       "  /* fitted */\n",
       "  background-color: var(--sklearn-color-fitted-level-0);\n",
       "}\n",
       "\n",
       "#sk-container-id-2 div.sk-toggleable__content pre {\n",
       "  margin: 0.2em;\n",
       "  border-radius: 0.25em;\n",
       "  color: var(--sklearn-color-text);\n",
       "  /* unfitted */\n",
       "  background-color: var(--sklearn-color-unfitted-level-0);\n",
       "}\n",
       "\n",
       "#sk-container-id-2 div.sk-toggleable__content.fitted pre {\n",
       "  /* unfitted */\n",
       "  background-color: var(--sklearn-color-fitted-level-0);\n",
       "}\n",
       "\n",
       "#sk-container-id-2 input.sk-toggleable__control:checked~div.sk-toggleable__content {\n",
       "  /* Expand drop-down */\n",
       "  max-height: 200px;\n",
       "  max-width: 100%;\n",
       "  overflow: auto;\n",
       "}\n",
       "\n",
       "#sk-container-id-2 input.sk-toggleable__control:checked~label.sk-toggleable__label-arrow:before {\n",
       "  content: \"▾\";\n",
       "}\n",
       "\n",
       "/* Pipeline/ColumnTransformer-specific style */\n",
       "\n",
       "#sk-container-id-2 div.sk-label input.sk-toggleable__control:checked~label.sk-toggleable__label {\n",
       "  color: var(--sklearn-color-text);\n",
       "  background-color: var(--sklearn-color-unfitted-level-2);\n",
       "}\n",
       "\n",
       "#sk-container-id-2 div.sk-label.fitted input.sk-toggleable__control:checked~label.sk-toggleable__label {\n",
       "  background-color: var(--sklearn-color-fitted-level-2);\n",
       "}\n",
       "\n",
       "/* Estimator-specific style */\n",
       "\n",
       "/* Colorize estimator box */\n",
       "#sk-container-id-2 div.sk-estimator input.sk-toggleable__control:checked~label.sk-toggleable__label {\n",
       "  /* unfitted */\n",
       "  background-color: var(--sklearn-color-unfitted-level-2);\n",
       "}\n",
       "\n",
       "#sk-container-id-2 div.sk-estimator.fitted input.sk-toggleable__control:checked~label.sk-toggleable__label {\n",
       "  /* fitted */\n",
       "  background-color: var(--sklearn-color-fitted-level-2);\n",
       "}\n",
       "\n",
       "#sk-container-id-2 div.sk-label label.sk-toggleable__label,\n",
       "#sk-container-id-2 div.sk-label label {\n",
       "  /* The background is the default theme color */\n",
       "  color: var(--sklearn-color-text-on-default-background);\n",
       "}\n",
       "\n",
       "/* On hover, darken the color of the background */\n",
       "#sk-container-id-2 div.sk-label:hover label.sk-toggleable__label {\n",
       "  color: var(--sklearn-color-text);\n",
       "  background-color: var(--sklearn-color-unfitted-level-2);\n",
       "}\n",
       "\n",
       "/* Label box, darken color on hover, fitted */\n",
       "#sk-container-id-2 div.sk-label.fitted:hover label.sk-toggleable__label.fitted {\n",
       "  color: var(--sklearn-color-text);\n",
       "  background-color: var(--sklearn-color-fitted-level-2);\n",
       "}\n",
       "\n",
       "/* Estimator label */\n",
       "\n",
       "#sk-container-id-2 div.sk-label label {\n",
       "  font-family: monospace;\n",
       "  font-weight: bold;\n",
       "  display: inline-block;\n",
       "  line-height: 1.2em;\n",
       "}\n",
       "\n",
       "#sk-container-id-2 div.sk-label-container {\n",
       "  text-align: center;\n",
       "}\n",
       "\n",
       "/* Estimator-specific */\n",
       "#sk-container-id-2 div.sk-estimator {\n",
       "  font-family: monospace;\n",
       "  border: 1px dotted var(--sklearn-color-border-box);\n",
       "  border-radius: 0.25em;\n",
       "  box-sizing: border-box;\n",
       "  margin-bottom: 0.5em;\n",
       "  /* unfitted */\n",
       "  background-color: var(--sklearn-color-unfitted-level-0);\n",
       "}\n",
       "\n",
       "#sk-container-id-2 div.sk-estimator.fitted {\n",
       "  /* fitted */\n",
       "  background-color: var(--sklearn-color-fitted-level-0);\n",
       "}\n",
       "\n",
       "/* on hover */\n",
       "#sk-container-id-2 div.sk-estimator:hover {\n",
       "  /* unfitted */\n",
       "  background-color: var(--sklearn-color-unfitted-level-2);\n",
       "}\n",
       "\n",
       "#sk-container-id-2 div.sk-estimator.fitted:hover {\n",
       "  /* fitted */\n",
       "  background-color: var(--sklearn-color-fitted-level-2);\n",
       "}\n",
       "\n",
       "/* Specification for estimator info (e.g. \"i\" and \"?\") */\n",
       "\n",
       "/* Common style for \"i\" and \"?\" */\n",
       "\n",
       ".sk-estimator-doc-link,\n",
       "a:link.sk-estimator-doc-link,\n",
       "a:visited.sk-estimator-doc-link {\n",
       "  float: right;\n",
       "  font-size: smaller;\n",
       "  line-height: 1em;\n",
       "  font-family: monospace;\n",
       "  background-color: var(--sklearn-color-background);\n",
       "  border-radius: 1em;\n",
       "  height: 1em;\n",
       "  width: 1em;\n",
       "  text-decoration: none !important;\n",
       "  margin-left: 0.5em;\n",
       "  text-align: center;\n",
       "  /* unfitted */\n",
       "  border: var(--sklearn-color-unfitted-level-1) 1pt solid;\n",
       "  color: var(--sklearn-color-unfitted-level-1);\n",
       "}\n",
       "\n",
       ".sk-estimator-doc-link.fitted,\n",
       "a:link.sk-estimator-doc-link.fitted,\n",
       "a:visited.sk-estimator-doc-link.fitted {\n",
       "  /* fitted */\n",
       "  border: var(--sklearn-color-fitted-level-1) 1pt solid;\n",
       "  color: var(--sklearn-color-fitted-level-1);\n",
       "}\n",
       "\n",
       "/* On hover */\n",
       "div.sk-estimator:hover .sk-estimator-doc-link:hover,\n",
       ".sk-estimator-doc-link:hover,\n",
       "div.sk-label-container:hover .sk-estimator-doc-link:hover,\n",
       ".sk-estimator-doc-link:hover {\n",
       "  /* unfitted */\n",
       "  background-color: var(--sklearn-color-unfitted-level-3);\n",
       "  color: var(--sklearn-color-background);\n",
       "  text-decoration: none;\n",
       "}\n",
       "\n",
       "div.sk-estimator.fitted:hover .sk-estimator-doc-link.fitted:hover,\n",
       ".sk-estimator-doc-link.fitted:hover,\n",
       "div.sk-label-container:hover .sk-estimator-doc-link.fitted:hover,\n",
       ".sk-estimator-doc-link.fitted:hover {\n",
       "  /* fitted */\n",
       "  background-color: var(--sklearn-color-fitted-level-3);\n",
       "  color: var(--sklearn-color-background);\n",
       "  text-decoration: none;\n",
       "}\n",
       "\n",
       "/* Span, style for the box shown on hovering the info icon */\n",
       ".sk-estimator-doc-link span {\n",
       "  display: none;\n",
       "  z-index: 9999;\n",
       "  position: relative;\n",
       "  font-weight: normal;\n",
       "  right: .2ex;\n",
       "  padding: .5ex;\n",
       "  margin: .5ex;\n",
       "  width: min-content;\n",
       "  min-width: 20ex;\n",
       "  max-width: 50ex;\n",
       "  color: var(--sklearn-color-text);\n",
       "  box-shadow: 2pt 2pt 4pt #999;\n",
       "  /* unfitted */\n",
       "  background: var(--sklearn-color-unfitted-level-0);\n",
       "  border: .5pt solid var(--sklearn-color-unfitted-level-3);\n",
       "}\n",
       "\n",
       ".sk-estimator-doc-link.fitted span {\n",
       "  /* fitted */\n",
       "  background: var(--sklearn-color-fitted-level-0);\n",
       "  border: var(--sklearn-color-fitted-level-3);\n",
       "}\n",
       "\n",
       ".sk-estimator-doc-link:hover span {\n",
       "  display: block;\n",
       "}\n",
       "\n",
       "/* \"?\"-specific style due to the `<a>` HTML tag */\n",
       "\n",
       "#sk-container-id-2 a.estimator_doc_link {\n",
       "  float: right;\n",
       "  font-size: 1rem;\n",
       "  line-height: 1em;\n",
       "  font-family: monospace;\n",
       "  background-color: var(--sklearn-color-background);\n",
       "  border-radius: 1rem;\n",
       "  height: 1rem;\n",
       "  width: 1rem;\n",
       "  text-decoration: none;\n",
       "  /* unfitted */\n",
       "  color: var(--sklearn-color-unfitted-level-1);\n",
       "  border: var(--sklearn-color-unfitted-level-1) 1pt solid;\n",
       "}\n",
       "\n",
       "#sk-container-id-2 a.estimator_doc_link.fitted {\n",
       "  /* fitted */\n",
       "  border: var(--sklearn-color-fitted-level-1) 1pt solid;\n",
       "  color: var(--sklearn-color-fitted-level-1);\n",
       "}\n",
       "\n",
       "/* On hover */\n",
       "#sk-container-id-2 a.estimator_doc_link:hover {\n",
       "  /* unfitted */\n",
       "  background-color: var(--sklearn-color-unfitted-level-3);\n",
       "  color: var(--sklearn-color-background);\n",
       "  text-decoration: none;\n",
       "}\n",
       "\n",
       "#sk-container-id-2 a.estimator_doc_link.fitted:hover {\n",
       "  /* fitted */\n",
       "  background-color: var(--sklearn-color-fitted-level-3);\n",
       "}\n",
       "</style><div id=\"sk-container-id-2\" class=\"sk-top-container\"><div class=\"sk-text-repr-fallback\"><pre>FunctionTransformer(func=&lt;ufunc &#x27;log1p&#x27;&gt;)</pre><b>In a Jupyter environment, please rerun this cell to show the HTML representation or trust the notebook. <br />On GitHub, the HTML representation is unable to render, please try loading this page with nbviewer.org.</b></div><div class=\"sk-container\" hidden><div class=\"sk-item\"><div class=\"sk-estimator fitted sk-toggleable\"><input class=\"sk-toggleable__control sk-hidden--visually\" id=\"sk-estimator-id-8\" type=\"checkbox\" checked><label for=\"sk-estimator-id-8\" class=\"sk-toggleable__label fitted sk-toggleable__label-arrow\"><div><div>log1p</div><div class=\"caption\">FunctionTransformer</div></div><div><a class=\"sk-estimator-doc-link fitted\" rel=\"noreferrer\" target=\"_blank\" href=\"https://scikit-learn.org/1.6/modules/generated/sklearn.preprocessing.FunctionTransformer.html\">?<span>Documentation for FunctionTransformer</span></a><span class=\"sk-estimator-doc-link fitted\">i<span>Fitted</span></span></div></label><div class=\"sk-toggleable__content fitted\"><pre>FunctionTransformer(func=&lt;ufunc &#x27;log1p&#x27;&gt;)</pre></div> </div></div></div></div>"
      ],
      "text/plain": [
       "FunctionTransformer(func=<ufunc 'log1p'>)"
      ]
     },
     "execution_count": 94,
     "metadata": {},
     "output_type": "execute_result"
    }
   ],
   "source": [
    "ft.fit(df_merged2[['Area','Year','Item','average_rain_fall_mm_per_year','avg_temp','Pesticide_use','Yield_output']])"
   ]
  },
  {
   "cell_type": "code",
   "execution_count": 95,
   "id": "cd0cea15-9552-4d64-9321-c1caea4ba2a7",
   "metadata": {},
   "outputs": [
    {
     "data": {
      "image/png": "[encoded data removed]",
      "text/plain": [
       "<Figure size 1200x800 with 5 Axes>"
      ]
     },
     "metadata": {},
     "output_type": "display_data"
    }
   ],
   "source": [
    "plt.figure(figsize=(12, 8))\n",
    "for i, col in enumerate(['Year', 'average_rain_fall_mm_per_year', 'avg_temp', 'Pesticide_use', 'Yield_output']):\n",
    "    plt.subplot(2, 3, i + 1)\n",
    "    sns.histplot(df_merged2[col], kde=True)\n",
    "    plt.title(col)\n",
    "plt.tight_layout()\n",
    "plt.show()"
   ]
  },
  {
   "cell_type": "code",
   "execution_count": 96,
   "id": "a989ba88-8e8c-45d1-8062-2e6fd4644a28",
   "metadata": {},
   "outputs": [],
   "source": [
    "y=df_merged2['Yield_output']#output\n",
    "x=df_merged2.drop('Yield_output',axis=1)#input/feature"
   ]
  },
  {
   "cell_type": "markdown",
   "id": "1fbeecba-fc91-4988-aa15-3b1c99eb6e59",
   "metadata": {},
   "source": [
    "#train test split"
   ]
  },
  {
   "cell_type": "code",
   "execution_count": 97,
   "id": "644d78a8-40ec-4a93-a590-da01beb4a0f8",
   "metadata": {},
   "outputs": [],
   "source": [
    "from sklearn.model_selection import train_test_split"
   ]
  },
  {
   "cell_type": "code",
   "execution_count": 98,
   "id": "8f890db9-c883-435c-94ed-2974afad8b99",
   "metadata": {},
   "outputs": [],
   "source": [
    "x_train,x_test,y_train,y_test=train_test_split(x,y,test_size=0.2,random_state=42)"
   ]
  },
  {
   "cell_type": "code",
   "execution_count": 99,
   "id": "fbe7009c-78b3-435a-970f-256df5d77d5d",
   "metadata": {},
   "outputs": [
    {
     "data": {
      "text/plain": [
       "(81782, 6)"
      ]
     },
     "execution_count": 99,
     "metadata": {},
     "output_type": "execute_result"
    }
   ],
   "source": [
    "x_train.shape"
   ]
  },
  {
   "cell_type": "code",
   "execution_count": 100,
   "id": "3feed9ba-71e0-4792-bdc1-a0279dea7d2b",
   "metadata": {},
   "outputs": [
    {
     "data": {
      "text/plain": [
       "(20446, 6)"
      ]
     },
     "execution_count": 100,
     "metadata": {},
     "output_type": "execute_result"
    }
   ],
   "source": [
    "x_test.shape"
   ]
  },
  {
   "cell_type": "code",
   "execution_count": 101,
   "id": "dfab86cb-d4be-464e-ba9e-0c8314c1af33",
   "metadata": {},
   "outputs": [
    {
     "data": {
      "text/html": [
       "<div>\n",
       "<style scoped>\n",
       "    .dataframe tbody tr th:only-of-type {\n",
       "        vertical-align: middle;\n",
       "    }\n",
       "\n",
       "    .dataframe tbody tr th {\n",
       "        vertical-align: top;\n",
       "    }\n",
       "\n",
       "    .dataframe thead th {\n",
       "        text-align: right;\n",
       "    }\n",
       "</style>\n",
       "<table border=\"1\" class=\"dataframe\">\n",
       "  <thead>\n",
       "    <tr style=\"text-align: right;\">\n",
       "      <th></th>\n",
       "      <th>Area</th>\n",
       "      <th>Year</th>\n",
       "      <th>Item</th>\n",
       "      <th>average_rain_fall_mm_per_year</th>\n",
       "      <th>avg_temp</th>\n",
       "      <th>Pesticide_use</th>\n",
       "    </tr>\n",
       "  </thead>\n",
       "  <tbody>\n",
       "    <tr>\n",
       "      <th>86957</th>\n",
       "      <td>Panama</td>\n",
       "      <td>1995</td>\n",
       "      <td>Rice, paddy</td>\n",
       "      <td>2928.000000</td>\n",
       "      <td>19.692466</td>\n",
       "      <td>6416.00</td>\n",
       "    </tr>\n",
       "    <tr>\n",
       "      <th>5204</th>\n",
       "      <td>Bahrain</td>\n",
       "      <td>1995</td>\n",
       "      <td>Potatoes</td>\n",
       "      <td>83.000000</td>\n",
       "      <td>26.180000</td>\n",
       "      <td>12.46</td>\n",
       "    </tr>\n",
       "    <tr>\n",
       "      <th>13385</th>\n",
       "      <td>Brazil</td>\n",
       "      <td>2003</td>\n",
       "      <td>Yams</td>\n",
       "      <td>1143.081356</td>\n",
       "      <td>26.160000</td>\n",
       "      <td>182446.00</td>\n",
       "    </tr>\n",
       "    <tr>\n",
       "      <th>54492</th>\n",
       "      <td>India</td>\n",
       "      <td>1963</td>\n",
       "      <td>Sorghum</td>\n",
       "      <td>1143.081356</td>\n",
       "      <td>25.520000</td>\n",
       "      <td>0.00</td>\n",
       "    </tr>\n",
       "    <tr>\n",
       "      <th>86852</th>\n",
       "      <td>Panama</td>\n",
       "      <td>2002</td>\n",
       "      <td>Plantains and others</td>\n",
       "      <td>2928.000000</td>\n",
       "      <td>19.692466</td>\n",
       "      <td>2137.12</td>\n",
       "    </tr>\n",
       "    <tr>\n",
       "      <th>...</th>\n",
       "      <td>...</td>\n",
       "      <td>...</td>\n",
       "      <td>...</td>\n",
       "      <td>...</td>\n",
       "      <td>...</td>\n",
       "      <td>...</td>\n",
       "    </tr>\n",
       "    <tr>\n",
       "      <th>6592</th>\n",
       "      <td>Belize</td>\n",
       "      <td>2010</td>\n",
       "      <td>Rice, paddy</td>\n",
       "      <td>1705.000000</td>\n",
       "      <td>19.692466</td>\n",
       "      <td>700.39</td>\n",
       "    </tr>\n",
       "    <tr>\n",
       "      <th>59463</th>\n",
       "      <td>Indonesia</td>\n",
       "      <td>1967</td>\n",
       "      <td>Maize</td>\n",
       "      <td>1143.081356</td>\n",
       "      <td>26.980000</td>\n",
       "      <td>0.00</td>\n",
       "    </tr>\n",
       "    <tr>\n",
       "      <th>82346</th>\n",
       "      <td>Nigeria</td>\n",
       "      <td>1968</td>\n",
       "      <td>Yams</td>\n",
       "      <td>1143.081356</td>\n",
       "      <td>26.670000</td>\n",
       "      <td>0.00</td>\n",
       "    </tr>\n",
       "    <tr>\n",
       "      <th>860</th>\n",
       "      <td>American Samoa</td>\n",
       "      <td>1992</td>\n",
       "      <td>Yams</td>\n",
       "      <td>1143.081356</td>\n",
       "      <td>19.692466</td>\n",
       "      <td>0.00</td>\n",
       "    </tr>\n",
       "    <tr>\n",
       "      <th>17089</th>\n",
       "      <td>Canada</td>\n",
       "      <td>1993</td>\n",
       "      <td>Wheat</td>\n",
       "      <td>537.000000</td>\n",
       "      <td>7.690000</td>\n",
       "      <td>29296.50</td>\n",
       "    </tr>\n",
       "  </tbody>\n",
       "</table>\n",
       "<p>81782 rows × 6 columns</p>\n",
       "</div>"
      ],
      "text/plain": [
       "                 Area  Year                  Item  \\\n",
       "86957          Panama  1995           Rice, paddy   \n",
       "5204          Bahrain  1995              Potatoes   \n",
       "13385          Brazil  2003                  Yams   \n",
       "54492           India  1963               Sorghum   \n",
       "86852          Panama  2002  Plantains and others   \n",
       "...               ...   ...                   ...   \n",
       "6592           Belize  2010           Rice, paddy   \n",
       "59463       Indonesia  1967                 Maize   \n",
       "82346         Nigeria  1968                  Yams   \n",
       "860    American Samoa  1992                  Yams   \n",
       "17089          Canada  1993                 Wheat   \n",
       "\n",
       "       average_rain_fall_mm_per_year   avg_temp  Pesticide_use  \n",
       "86957                    2928.000000  19.692466        6416.00  \n",
       "5204                       83.000000  26.180000          12.46  \n",
       "13385                    1143.081356  26.160000      182446.00  \n",
       "54492                    1143.081356  25.520000           0.00  \n",
       "86852                    2928.000000  19.692466        2137.12  \n",
       "...                              ...        ...            ...  \n",
       "6592                     1705.000000  19.692466         700.39  \n",
       "59463                    1143.081356  26.980000           0.00  \n",
       "82346                    1143.081356  26.670000           0.00  \n",
       "860                      1143.081356  19.692466           0.00  \n",
       "17089                     537.000000   7.690000       29296.50  \n",
       "\n",
       "[81782 rows x 6 columns]"
      ]
     },
     "execution_count": 101,
     "metadata": {},
     "output_type": "execute_result"
    }
   ],
   "source": [
    "x_train#look this,train data are more"
   ]
  },
  {
   "cell_type": "code",
   "execution_count": 102,
   "id": "629f6aa9-a292-492d-8900-fb89e02b212b",
   "metadata": {},
   "outputs": [
    {
     "data": {
      "text/html": [
       "<div>\n",
       "<style scoped>\n",
       "    .dataframe tbody tr th:only-of-type {\n",
       "        vertical-align: middle;\n",
       "    }\n",
       "\n",
       "    .dataframe tbody tr th {\n",
       "        vertical-align: top;\n",
       "    }\n",
       "\n",
       "    .dataframe thead th {\n",
       "        text-align: right;\n",
       "    }\n",
       "</style>\n",
       "<table border=\"1\" class=\"dataframe\">\n",
       "  <thead>\n",
       "    <tr style=\"text-align: right;\">\n",
       "      <th></th>\n",
       "      <th>Area</th>\n",
       "      <th>Year</th>\n",
       "      <th>Item</th>\n",
       "      <th>average_rain_fall_mm_per_year</th>\n",
       "      <th>avg_temp</th>\n",
       "      <th>Pesticide_use</th>\n",
       "    </tr>\n",
       "  </thead>\n",
       "  <tbody>\n",
       "    <tr>\n",
       "      <th>37939</th>\n",
       "      <td>Democratic People's Republic of Korea</td>\n",
       "      <td>1989</td>\n",
       "      <td>Soybeans</td>\n",
       "      <td>1143.081356</td>\n",
       "      <td>19.692466</td>\n",
       "      <td>0.00</td>\n",
       "    </tr>\n",
       "    <tr>\n",
       "      <th>107580</th>\n",
       "      <td>Venezuela (Bolivarian Republic of)</td>\n",
       "      <td>1996</td>\n",
       "      <td>Yams</td>\n",
       "      <td>1143.081356</td>\n",
       "      <td>19.692466</td>\n",
       "      <td>3928.00</td>\n",
       "    </tr>\n",
       "    <tr>\n",
       "      <th>16686</th>\n",
       "      <td>Canada</td>\n",
       "      <td>1980</td>\n",
       "      <td>Soybeans</td>\n",
       "      <td>1143.081356</td>\n",
       "      <td>7.610000</td>\n",
       "      <td>0.00</td>\n",
       "    </tr>\n",
       "    <tr>\n",
       "      <th>48662</th>\n",
       "      <td>Haiti</td>\n",
       "      <td>2013</td>\n",
       "      <td>Potatoes</td>\n",
       "      <td>1440.000000</td>\n",
       "      <td>27.200000</td>\n",
       "      <td>27.85</td>\n",
       "    </tr>\n",
       "    <tr>\n",
       "      <th>1747</th>\n",
       "      <td>Argentina</td>\n",
       "      <td>1988</td>\n",
       "      <td>Potatoes</td>\n",
       "      <td>1143.081356</td>\n",
       "      <td>17.200000</td>\n",
       "      <td>0.00</td>\n",
       "    </tr>\n",
       "    <tr>\n",
       "      <th>...</th>\n",
       "      <td>...</td>\n",
       "      <td>...</td>\n",
       "      <td>...</td>\n",
       "      <td>...</td>\n",
       "      <td>...</td>\n",
       "      <td>...</td>\n",
       "    </tr>\n",
       "    <tr>\n",
       "      <th>46410</th>\n",
       "      <td>Greece</td>\n",
       "      <td>1966</td>\n",
       "      <td>Wheat</td>\n",
       "      <td>1143.081356</td>\n",
       "      <td>18.370000</td>\n",
       "      <td>0.00</td>\n",
       "    </tr>\n",
       "    <tr>\n",
       "      <th>28022</th>\n",
       "      <td>China</td>\n",
       "      <td>1966</td>\n",
       "      <td>Soybeans</td>\n",
       "      <td>1143.081356</td>\n",
       "      <td>14.970000</td>\n",
       "      <td>0.00</td>\n",
       "    </tr>\n",
       "    <tr>\n",
       "      <th>45222</th>\n",
       "      <td>Germany</td>\n",
       "      <td>1974</td>\n",
       "      <td>Maize</td>\n",
       "      <td>1143.081356</td>\n",
       "      <td>9.890000</td>\n",
       "      <td>0.00</td>\n",
       "    </tr>\n",
       "    <tr>\n",
       "      <th>97643</th>\n",
       "      <td>Spain</td>\n",
       "      <td>1997</td>\n",
       "      <td>Rice, paddy</td>\n",
       "      <td>636.000000</td>\n",
       "      <td>13.020000</td>\n",
       "      <td>34023.00</td>\n",
       "    </tr>\n",
       "    <tr>\n",
       "      <th>18396</th>\n",
       "      <td>Chile</td>\n",
       "      <td>2002</td>\n",
       "      <td>Potatoes</td>\n",
       "      <td>1522.000000</td>\n",
       "      <td>12.950000</td>\n",
       "      <td>12047.63</td>\n",
       "    </tr>\n",
       "  </tbody>\n",
       "</table>\n",
       "<p>20446 rows × 6 columns</p>\n",
       "</div>"
      ],
      "text/plain": [
       "                                         Area  Year         Item  \\\n",
       "37939   Democratic People's Republic of Korea  1989     Soybeans   \n",
       "107580     Venezuela (Bolivarian Republic of)  1996         Yams   \n",
       "16686                                  Canada  1980     Soybeans   \n",
       "48662                                   Haiti  2013     Potatoes   \n",
       "1747                                Argentina  1988     Potatoes   \n",
       "...                                       ...   ...          ...   \n",
       "46410                                  Greece  1966        Wheat   \n",
       "28022                                   China  1966     Soybeans   \n",
       "45222                                 Germany  1974        Maize   \n",
       "97643                                   Spain  1997  Rice, paddy   \n",
       "18396                                   Chile  2002     Potatoes   \n",
       "\n",
       "        average_rain_fall_mm_per_year   avg_temp  Pesticide_use  \n",
       "37939                     1143.081356  19.692466           0.00  \n",
       "107580                    1143.081356  19.692466        3928.00  \n",
       "16686                     1143.081356   7.610000           0.00  \n",
       "48662                     1440.000000  27.200000          27.85  \n",
       "1747                      1143.081356  17.200000           0.00  \n",
       "...                               ...        ...            ...  \n",
       "46410                     1143.081356  18.370000           0.00  \n",
       "28022                     1143.081356  14.970000           0.00  \n",
       "45222                     1143.081356   9.890000           0.00  \n",
       "97643                      636.000000  13.020000       34023.00  \n",
       "18396                     1522.000000  12.950000       12047.63  \n",
       "\n",
       "[20446 rows x 6 columns]"
      ]
     },
     "execution_count": 102,
     "metadata": {},
     "output_type": "execute_result"
    }
   ],
   "source": [
    "x_test#look this,test data are less"
   ]
  },
  {
   "cell_type": "markdown",
   "id": "3426f225-9e9f-4001-b002-21a2a4ee4826",
   "metadata": {},
   "source": [
    "#fit and transform data"
   ]
  },
  {
   "cell_type": "code",
   "execution_count": 103,
   "id": "baabe929-42c9-44af-87c3-72be7f707b23",
   "metadata": {},
   "outputs": [],
   "source": [
    "x_train_dummy=preprocessor.fit_transform(x_train)\n",
    "x_test_dummy=preprocessor.transform(x_test)"
   ]
  },
  {
   "cell_type": "code",
   "execution_count": 104,
   "id": "e02bb12d-5469-4de6-9b2a-04b874a0b3da",
   "metadata": {},
   "outputs": [
    {
     "data": {
      "text/plain": [
       "<Compressed Sparse Row sparse matrix of dtype 'float64'\n",
       "\twith 482630 stored elements and shape (81782, 224)>"
      ]
     },
     "execution_count": 104,
     "metadata": {},
     "output_type": "execute_result"
    }
   ],
   "source": [
    "x_train_dummy"
   ]
  },
  {
   "cell_type": "code",
   "execution_count": 105,
   "id": "09180d13-b90e-41c1-bd34-cb395cf3163a",
   "metadata": {},
   "outputs": [
    {
     "data": {
      "text/plain": [
       "<Compressed Sparse Row sparse matrix of dtype 'float64'\n",
       "\twith 120662 stored elements and shape (20446, 224)>"
      ]
     },
     "execution_count": 105,
     "metadata": {},
     "output_type": "execute_result"
    }
   ],
   "source": [
    "x_test_dummy"
   ]
  },
  {
   "cell_type": "markdown",
   "id": "4446a754-a9c5-4f65-93f9-0c2c8e4deebb",
   "metadata": {},
   "source": [
    "#model training"
   ]
  },
  {
   "cell_type": "code",
   "execution_count": 106,
   "id": "e4540433-636b-436b-b7e9-02fb0a493af8",
   "metadata": {},
   "outputs": [],
   "source": [
    "from sklearn.linear_model import LinearRegression, Ridge, Lasso\n",
    "from sklearn.neighbors import KNeighborsRegressor\n",
    "from sklearn.tree import DecisionTreeRegressor\n",
    "from sklearn.metrics import mean_squared_error,r2_score"
   ]
  },
  {
   "cell_type": "code",
   "execution_count": 107,
   "id": "7a3d047e-b41e-438d-8cd4-9a280ee88580",
   "metadata": {},
   "outputs": [],
   "source": [
    "# Create Dictionary of regression models using key and value\n",
    "models = {\n",
    "    'LinearRegression': LinearRegression(),\n",
    "    'Ridge': Ridge(),\n",
    "    'Lasso': Lasso(),\n",
    "    'Knr':KNeighborsRegressor(),\n",
    "    'DecisionTree': DecisionTreeRegressor(),\n",
    "    }\n",
    "\n"
   ]
  },
  {
   "cell_type": "code",
   "execution_count": 108,
   "id": "84b47552-89a6-48b4-b4dc-78efef3a6032",
   "metadata": {},
   "outputs": [
    {
     "name": "stdout",
     "output_type": "stream",
     "text": [
      "LinearRegression MSE: 1407140867.3618488 Score0.7071448260289731\n",
      "Ridge MSE: 1407203899.7394783 Score0.7071317076850001\n",
      "Lasso MSE: 1406919421.657399 Score0.7071909134689772\n",
      "Knr MSE: 154385259.4155923 Score0.9678692282674717\n",
      "DecisionTree MSE: 136520540.46297565 Score0.9715872464831041\n"
     ]
    }
   ],
   "source": [
    "# apply Loop within the models\n",
    "for name, model in models.items():\n",
    "    model.fit(x_train_dummy, y_train)\n",
    "    y_pred = model.predict(x_test_dummy)\n",
    "    print(f\"{name} MSE: {mean_squared_error(y_test, y_pred)} Score{r2_score(y_test,y_pred)}\")"
   ]
  },
  {
   "cell_type": "markdown",
   "id": "d9d27f90-d32c-4dcc-9733-7260b9ec4142",
   "metadata": {},
   "source": [
    "#Chose the model that has high score ansd less mse,so here we chose decission tree which is best choice for this data\n",
    "#Decision tree do not need to aplly encoding and feature scalling as it has capability to encode categorical data by itself"
   ]
  },
  {
   "cell_type": "code",
   "execution_count": 109,
   "id": "b7d93333-e959-43b2-bd08-b9202e45b084",
   "metadata": {},
   "outputs": [],
   "source": [
    "#select model "
   ]
  },
  {
   "cell_type": "code",
   "execution_count": 110,
   "id": "0ddfc578-368d-44fd-ba63-54d5934e7d5a",
   "metadata": {},
   "outputs": [
    {
     "data": {
      "text/plain": [
       "array([ 12500.,  81349.,  24892., ...,  48195.,  69838., 191735.])"
      ]
     },
     "execution_count": 110,
     "metadata": {},
     "output_type": "execute_result"
    }
   ],
   "source": [
    "dtr=DecisionTreeRegressor()\n",
    "dtr.fit(x_train_dummy,y_train)\n",
    "dtr.predict(x_test_dummy)"
   ]
  },
  {
   "cell_type": "markdown",
   "id": "63931147-6fa0-4115-8c98-3577f3d39a6d",
   "metadata": {},
   "source": [
    "#PREDECTIVE SYSTEM"
   ]
  },
  {
   "cell_type": "code",
   "execution_count": 111,
   "id": "8c3c9368-ad02-4ab2-b421-a885c7f7435f",
   "metadata": {},
   "outputs": [],
   "source": [
    "def prediction(Area, Year, Item, average_rain_fall_mm_per_year, avg_temp, Pesticide_use):\n",
    "    features = np.array([[Area, Year, Item, average_rain_fall_mm_per_year, avg_temp, Pesticide_use]])\n",
    "    \n",
    "    transformed_features = preprocessor.transform(features)\n",
    "    \n",
    "    predicted_value = dtr.predict(transformed_features).reshape(1,-1)\n",
    "    \n",
    "    return predicted_value[0]\n"
   ]
  },
  {
   "cell_type": "code",
   "execution_count": 112,
   "id": "0d57112e-ff13-43b8-8f60-50d685f6ab6b",
   "metadata": {},
   "outputs": [
    {
     "name": "stderr",
     "output_type": "stream",
     "text": [
      "C:\\Users\\A S P I R E 7\\AppData\\Local\\Programs\\Python\\Python312\\Lib\\site-packages\\sklearn\\utils\\validation.py:2739: UserWarning: X does not have valid feature names, but OneHotEncoder was fitted with feature names\n",
      "  warnings.warn(\n",
      "C:\\Users\\A S P I R E 7\\AppData\\Local\\Programs\\Python\\Python312\\Lib\\site-packages\\sklearn\\utils\\validation.py:2739: UserWarning: X does not have valid feature names, but StandardScaler was fitted with feature names\n",
      "  warnings.warn(\n"
     ]
    }
   ],
   "source": [
    "Area=\"Afghanistan\"\n",
    "Year=1961\n",
    "Item=\"Maize\"\n",
    "average_rain_fall_mm_per_year=1143.081356\n",
    "avg_temp=14.23\n",
    "Pesticide_use=0.0\t\n",
    "result=prediction(Area,Year,Item,average_rain_fall_mm_per_year,avg_temp,Pesticide_use)"
   ]
  },
  {
   "cell_type": "code",
   "execution_count": 113,
   "id": "b4b12c2d-723f-43b8-813b-43d253af37d7",
   "metadata": {},
   "outputs": [
    {
     "data": {
      "text/plain": [
       "array([14000.])"
      ]
     },
     "execution_count": 113,
     "metadata": {},
     "output_type": "execute_result"
    }
   ],
   "source": [
    "result"
   ]
  },
  {
   "cell_type": "code",
   "execution_count": null,
   "id": "19d4a3fd-ecaf-4454-95e9-0b4ca7dc3537",
   "metadata": {},
   "outputs": [],
   "source": []
  },
  {
   "cell_type": "code",
   "execution_count": null,
   "id": "56e3de52-50c7-4812-a400-de2fcec748a8",
   "metadata": {},
   "outputs": [],
   "source": []
  },
  {
   "cell_type": "code",
   "execution_count": null,
   "id": "3ab257e0-e872-4f30-8c99-a6d742906ca2",
   "metadata": {},
   "outputs": [],
   "source": []
  }
 ],
 "metadata": {
  "kernelspec": {
   "display_name": "Python 3 (ipykernel)",
   "language": "python",
   "name": "python3"
  },
  "language_info": {
   "codemirror_mode": {
    "name": "ipython",
    "version": 3
   },
   "file_extension": ".py",
   "mimetype": "text/x-python",
   "name": "python",
   "nbconvert_exporter": "python",
   "pygments_lexer": "ipython3",
   "version": "3.12.8"
  }
 },
 "nbformat": 4,
 "nbformat_minor": 5
}
